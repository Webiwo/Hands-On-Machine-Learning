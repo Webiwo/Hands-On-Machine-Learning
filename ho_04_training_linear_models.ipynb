{
  "nbformat": 4,
  "nbformat_minor": 0,
  "metadata": {
    "colab": {
      "provenance": []
    },
    "kernelspec": {
      "name": "python3",
      "display_name": "Python 3"
    },
    "language_info": {
      "name": "python"
    }
  },
  "cells": [
    {
      "cell_type": "markdown",
      "source": [
        "# Linear Regression"
      ],
      "metadata": {
        "id": "lAfdSwwovnYa"
      }
    },
    {
      "cell_type": "markdown",
      "source": [
        "## The Normal Equation"
      ],
      "metadata": {
        "id": "dK_9FziwwHE9"
      }
    },
    {
      "cell_type": "markdown",
      "source": [
        "*Aby określić wartość wektora θ minimalizującą MSE, można użyć jawnego rozwiązania (ang. closed-form solution) — innymi słowy, wzoru matematycznego dającego bezpośredni wynik. Jest to tak zwane równanie normalne*\n",
        "\n",
        "$\\hat{\\theta}=(X^TX)^{-1}X^Ty$"
      ],
      "metadata": {
        "id": "kcnhGLxWX0IG"
      }
    },
    {
      "cell_type": "code",
      "source": [
        "import numpy as np\n",
        "\n",
        "np.random.seed(42)\n",
        "m = 100    # number of instances\n",
        "X = 2 * np.random.rand(m, 1)    # column vector\n",
        "y = 4 + 3 * X + np.random.randn(m, 1)   # column vector"
      ],
      "metadata": {
        "id": "ftfVEP2ZwI3c"
      },
      "execution_count": 1,
      "outputs": []
    },
    {
      "cell_type": "code",
      "source": [
        "import matplotlib.pyplot as plt\n",
        "\n",
        "plt.figure(figsize=(6, 4))\n",
        "plt.plot(X, y, \"b.\")\n",
        "plt.xlabel(\"X\")\n",
        "plt.ylabel(\"y\", rotation=0)\n",
        "#plt.scatter(X, y, s=10)\n",
        "plt.axis([0, 2, 0, 15])\n",
        "plt.grid()\n",
        "plt.show()"
      ],
      "metadata": {
        "colab": {
          "base_uri": "https://localhost:8080/",
          "height": 388
        },
        "id": "3K5hUHrHxUSt",
        "outputId": "a4e4f717-0aec-4f46-a626-9abc70aceba4"
      },
      "execution_count": 2,
      "outputs": [
        {
          "output_type": "display_data",
          "data": {
            "text/plain": [
              "<Figure size 600x400 with 1 Axes>"
            ],
            "image/png": "[encoded data removed]"
          },
          "metadata": {}
        }
      ]
    },
    {
      "cell_type": "markdown",
      "source": [
        "$\\hat{\\theta}=(X^TX)^{-1}X^Ty$\n",
        "\n",
        "*Dane wygenerowaliśmy za pomocą funkcji y = 4 + 3x + szum gaussowski. Sprawdźmy, co ten wzór wyliczył:*"
      ],
      "metadata": {
        "id": "eXbDJCOs6aVV"
      }
    },
    {
      "cell_type": "code",
      "source": [
        "from sklearn.preprocessing import add_dummy_feature\n",
        "\n",
        "X_b = add_dummy_feature(X)    # add x0 = 1 to each instance\n",
        "theta_best = np.linalg.inv(X_b.T @ X_b) @ X_b.T @ y\n",
        "theta_best"
      ],
      "metadata": {
        "colab": {
          "base_uri": "https://localhost:8080/"
        },
        "id": "nm7NH0o2xe5D",
        "outputId": "24de858e-ce4e-4d3d-8271-07f1f207cdce"
      },
      "execution_count": 3,
      "outputs": [
        {
          "output_type": "execute_result",
          "data": {
            "text/plain": [
              "array([[4.21509616],\n",
              "       [2.77011339]])"
            ]
          },
          "metadata": {},
          "execution_count": 3
        }
      ]
    },
    {
      "cell_type": "code",
      "source": [
        "X_new = np.array([[0], [2]])\n",
        "X_new_b = add_dummy_feature(X_new)  # add x0 = 1 to each instance\n",
        "X_new_b"
      ],
      "metadata": {
        "colab": {
          "base_uri": "https://localhost:8080/"
        },
        "id": "UcDAQXHvawUP",
        "outputId": "e0539f93-d1d7-4ebc-d154-8e77f6c3c5da"
      },
      "execution_count": 35,
      "outputs": [
        {
          "output_type": "execute_result",
          "data": {
            "text/plain": [
              "array([[1., 0.],\n",
              "       [1., 2.]])"
            ]
          },
          "metadata": {},
          "execution_count": 35
        }
      ]
    },
    {
      "cell_type": "code",
      "source": [
        "y_predict = X_new_b @ theta_best\n",
        "y_predict"
      ],
      "metadata": {
        "colab": {
          "base_uri": "https://localhost:8080/"
        },
        "id": "wLyuLxqw1Cvi",
        "outputId": "723fb927-828c-43fe-835d-b557b419f909"
      },
      "execution_count": 36,
      "outputs": [
        {
          "output_type": "execute_result",
          "data": {
            "text/plain": [
              "array([[4.21509616],\n",
              "       [9.75532293]])"
            ]
          },
          "metadata": {},
          "execution_count": 36
        }
      ]
    },
    {
      "cell_type": "code",
      "source": [
        "plt.figure(figsize=(6, 4))  # extra code – not needed, just formatting\n",
        "plt.plot(X_new, y_predict, \"r-\", label=\"Predictions\")\n",
        "plt.plot(X, y, \"b.\")\n",
        "\n",
        "plt.axis([0, 2, 0, 15])\n",
        "plt.grid()\n",
        "plt.legend(loc=\"upper left\")\n",
        "plt.show()"
      ],
      "metadata": {
        "colab": {
          "base_uri": "https://localhost:8080/",
          "height": 368
        },
        "id": "QRrM0qy88fUk",
        "outputId": "88000808-dcaa-4709-930b-60de31a77d26"
      },
      "execution_count": 5,
      "outputs": [
        {
          "output_type": "display_data",
          "data": {
            "text/plain": [
              "<Figure size 600x400 with 1 Axes>"
            ],
            "image/png": "[encoded data removed]"
          },
          "metadata": {}
        }
      ]
    },
    {
      "cell_type": "code",
      "source": [
        "from sklearn.linear_model import LinearRegression\n",
        "\n",
        "lin_reg = LinearRegression()\n",
        "lin_reg.fit(X, y)\n",
        "\n",
        "lin_reg.intercept_, lin_reg.coef_"
      ],
      "metadata": {
        "colab": {
          "base_uri": "https://localhost:8080/"
        },
        "id": "lhfndQj78tmM",
        "outputId": "ea49245c-f743-40f5-dffa-3c5001accd22"
      },
      "execution_count": 6,
      "outputs": [
        {
          "output_type": "execute_result",
          "data": {
            "text/plain": [
              "(array([4.21509616]), array([[2.77011339]]))"
            ]
          },
          "metadata": {},
          "execution_count": 6
        }
      ]
    },
    {
      "cell_type": "markdown",
      "source": [
        "*Klasa LinearRegression bazuje na funkcji `scipy.linalg.lstsq()` (skrót lstsq wywodzi się od angielskiej nazwy least squares, czyli „najmniejsze kwadraty”), którą możemy wywołać bezpośrednio:*"
      ],
      "metadata": {
        "id": "LyO2sbVD-avR"
      }
    },
    {
      "cell_type": "code",
      "source": [
        "# SVD - Singular Value Decomposition\n",
        "theta_best_svd, residuals, rank, s = np.linalg.lstsq(X_b, y, rcond=1e-6)\n",
        "theta_best_svd"
      ],
      "metadata": {
        "colab": {
          "base_uri": "https://localhost:8080/"
        },
        "id": "i2tEgWzn-4JJ",
        "outputId": "6491cd47-b2fc-491e-eecc-4a241a853f8d"
      },
      "execution_count": 7,
      "outputs": [
        {
          "output_type": "execute_result",
          "data": {
            "text/plain": [
              "array([[4.21509616],\n",
              "       [2.77011339]])"
            ]
          },
          "metadata": {},
          "execution_count": 7
        }
      ]
    },
    {
      "cell_type": "markdown",
      "source": [
        "## Gradient Descent"
      ],
      "metadata": {
        "id": "v0aCyI3zAb1R"
      }
    },
    {
      "cell_type": "markdown",
      "source": [
        "*Podczas korzystania z metody gradientu prostego należy umieścić wszystkie cechy\n",
        "w zbliżonej skali (np. za pomocą klasy `StandardScaler` modułu Scikit-Learn), gdyż w przeciwnym wypadku algorytm będzie potrzebował znacznie więcej czasu na osiągnięcie zbieżności.*"
      ],
      "metadata": {
        "id": "KC468FH3E5je"
      }
    },
    {
      "cell_type": "markdown",
      "source": [
        "#### Batch Gradient Descent"
      ],
      "metadata": {
        "id": "pgDPlEvxE-gj"
      }
    },
    {
      "cell_type": "markdown",
      "source": [
        "*Aby zaimplementować metodę gradientu prostego, musimy obliczyć gradient funkcji kosztu wobec każdego parametru $θ_j$ modelu. Innymi słowy, musimy policzyć, jak bardzo funkcja kosztu ulegnie\n",
        "zmianie, jeżeli tylko troszeczkę zmodyfikujemy $θ_j$. Proces ten nosi nazwę wyliczania **pochodnej cząstkowej**.*\n",
        "\n",
        "*Na każdym etapie gradientu prostego przeprowadza się takie obliczenia wobec całego zbioru uczącego X. Dlatego algorytm ten jest nazywany **wsadowym\n",
        "gradientem prostym (ang. batch gradient descent)**: wykorzystuje on pełny zbiór\n",
        "danych uczących w każdym przebiegu (prawdopodobnie lepszą nazwą byłaby pełny\n",
        "gradient prosty). Wynika z tego, że jest on bardzo powolny w przypadku dużych zestawów danych. Jednak algorytm ten znakomicie dostosowuje się do liczby cech; uczenie modelu regresji liniowej za pomocą algorytmu gradientu prostego przebiega znacznie szybciej niż przy użyciu równania normalnego lub rozkładu SVD.*\n",
        "\n",
        "*Po wyliczeniu wektora gradientów (będzie on wskazywał jakiś punkt na wzniesieniu funkcji) wystarczy się skierować w przeciwną stronę, aby zacząć schodzić w dół funkcji. Właśnie tutaj przydaje się współczynnik uczenia: przemnażamy go (η) przez wektor gradientów, aby określić długość kroku.*"
      ],
      "metadata": {
        "id": "tU7Bjzj8GV7Y"
      }
    },
    {
      "cell_type": "markdown",
      "source": [
        "![02. Gradient descent.png](data:image/png;base64,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)"
      ],
      "metadata": {
        "id": "WNVCegeZMqT7"
      }
    },
    {
      "cell_type": "markdown",
      "source": [
        "![02a. Gradient descent.png](data:image/png;base64,iVBORw0KGgoAAAANSUhEUgAAAPQAAAAmCAIAAAB8uyGNAAAAAXNSR0IArs4c6QAAAARnQU1BAACxjwv8YQUAAAAJcEhZcwAADsMAAA7DAcdvqGQAAAASdEVYdFNvZnR3YXJlAEdyZWVuc2hvdF5VCAUAAAvcSURBVHhe7Zx7UFTXHcfPOmtIRpoZydiZ6+BghmoMtaSDsVZrmk03g6mt0aTdGanCWKzBrBGCiMGOmY3xgQ+Kj2GJAa1GFMJG4vuxZJUmKuyIxEB42W4jyi4FBN11AYX13u2cc+/ePfe17C4acb2fv+Dcx7nnd77nd37ndw4At4xMiAL4BTIyoYIsbpmQRRa3TMgii1smZJHFLROyyOKWGVaQdxszYhccvUrxL/Bp37Qgdu+5Pl/3DUXct/6zO22bdYBfPDzpPZqT8s11X6aQefRQjoPZY/+ade0u/4IIjpaiX43NrvqfdJ8GLW5qoDH9lbz6Pn75sKW/+/TCt851SJtC5pHT9u2WieMLGvwV1YCxYPyrC2sc/HIPQYv7h4olv0m33OMXD2d6dqfFldbJ6h6mUAONy+aMXJnb5eJfkaS/68SrI+fsOTcg3qnBivteaXbEx0V3xV86TKHMByYm6h6XOOqJ44evVz+nzDzbxi/3iV2fqZz55vnb/HJEkOKmrmf9NmpvJaNty9mMZwGYojLe5N8HqTm0IAzE76kgeeWd1RsiYww3eKXS+K4FR+pOW+XfJ2nMTm6hzPAAynTcZENLYP6Suly28GmpIRGkuF1mTdiCQ/WeX8kmrVqZpbfz9YtwOYyzIgua/J9spPBZCweJOwMdTsOenv3rfq4Ag6F4feeR3sA086PjcpSrCfDGwm97+FcGoetKzlgwTre7R6SBPsTd1nw8IYlA5lGtSq2y4erkivteW2mcx5IqjdnqeTBeXW4l3Y7m/DjkRHtsFxah8j9ozDeqs8cAYvWxC+/EgymqklOF80eB+D11lZpoQBAFTaS7xhC7gqtOvBaaKTO3r09WvqOzdeE13ud/D+uqH4a4Xc6G3E3zR6G64lX5VfWDD70HSHfzrhfCAVDML7ks0rmwE69seTHWcN2vj7LrV9HdDYCUL4TtNSeomLs02iaY1iCtxXvS6CeJMemF+nq722lIRe6MbNLGMzeLgNWCNBq+PLvjPqeuwW3b33l4WrjEqJASd1tTfiwBJscaWkjsZ1bfZJOWmPuFR9wWU3oEsXHfFk2h6Q5s/Exlsrah/equaJBUdoM0FUSu0tsHPOXWS+ujVcab8A1EQQXZbloWHfO7ZVlHUxaEbTa4SEe5WplYVu++27QuhStuvBYSWW0KkZahJTIOnNDgNda7bfid2Bs6q9c/P/1EO1YyRFzOhtQkAiiTy2pJEvuZf9/Dg2rJSggHIPxPi+vEwq2OHG3Ean0XrhjfOKANfYjbWbxlphJgYiBbdclKtUd5rBzxmJCOEpmRgHA5G3WZ08MI73yOYtforQavB/XXti6zJhpMijti5V+QEjcz4IjVjLxsuiT46zJdaz9zR1fu0jH6M7TRmBFPf31N2fxRyPW2Vm+IVGaevdWkjVxuspOmPWqlMtNw8XjCXGKLwdnTvOsFeBuMtN7QmLsc5eowZFB62Fjte1P3XuNEMpxa4CymVL6Lvodfo51zJ07d0XmTFtf1cguHAGoU1pGoh7he4KFDNZsyIgAIH/VxZTf/Wndz/i8CyKxBaCECsTWS203WmjKQh/ZehffzRwLs07cx46N38l/ochjfUpd7BsD9I9t/qQBz93tWcQHYlrKkzwXhP9n2nUeaXkTFLWihy7AVjmcYMDCvpioPTFqeC10C0pl6uyEvJqbkXOnW2e+HvagydjgbUhOhajvbSqdGTFySWvcV/YYxby/TVjndpKnw5QiV8abLrBmVVFZLtpmWRzLNsOkWhL2n+WiXwYkbg1PL3tT80vQI5mNchs2cGuE4we7E7H7/VN5PhYF40NBhIj6KOmGsJaWM4HH1dVpa+5g3Un3fVx/atPag6Vw7nYcley/MmwwAmLAqt4Pb7915K54LyG1DSeXHpW9Kfdbr17z0WEtUsWtWJCqVXhkwPovn5i2nEwq9FoBaxx+pWLeu0eV22Q9n72Kr6Nn94TiAZl2aQGyLPO/INd90cYslxM0MGqwyRtx49X224t/Pu3CbrlWZebbLrBkLXekda+lU+FlEUsLFNpIe2XA2uY1iGxi+a/dXWW/pM2Gs7GTCcSRQYuPX0EaML+cld7i11O7DfEMPt0be93jHM2VZ+dJa8y3spUODmcEBSNEx6xFPB3hLhgp151RJalQ0AIrXNu/v7umoXJbyEuoafJk4YCz841MARE888F+s3/tsX6rG51wOqL0knGaPmWG7+PMe2aqLiyupP60mOCEHbQS41MEabDmuO8fKHUUB7NtczotrdI2CDUg6NPCqKxDb8p/1IiZudmEhFDceFfUd2zL7i4D3RGy62MXGG+XqsEWH+PGTXb849rOqC9qEYm5A8kCgrp1f8udsqSS3q9NW7xPbHcF+lWd+E+kAfBU7BPoqPttU3e0o3jptBAAz4z7IW3ux1U5RrvbcVRMVmP56rhfFwmVl/Cen+z390XsoZ/x7ku0Vh176X0fC4oqbvFSiXqW33oBN5jp10rojC0bh8aqSpk7vAyxIpoy7haF2GvGBYE4QCjQQ2/Kf9SImbvpuUTgNowZunDwWmPmYkaNMzCu28mMkNMR5PuDB4Tiy+VSbwKgMvhf1EOFsyESBoghT7EHQ31W+82C3i873KV7PLXV4Aoz+wzumjwCTNxaxCb6OnPd/pgBA5dnO6O82zn5+a01AbtvttpSr0/R2OiTAm9B6ac10OJeKByGsvifHbDzPT2iwUQCLiCWFAg3EtvxnvfgUt9Bzi4RiTyxsBwi9i6ADgofqr0mcAcZHfcquC+E29VyFgruCbK3UjQEg/OnUU/+m6EMXb2qbRLJjvrDrl0cWVJD0UGfXVy6neWHM2qpOxgVg6y4Mj76JMSuNuL4Fr0og0kwieRh+zB2IbQOLuf0MS550Apk6vTdLwY9xPXR+lxMJwv+CKZXObbNOmobqr/tbPMwJJme13Os1J4xNM7Vgl/0A22ujZ1faQzuL18ZsRot7Og6W+k5W38KIHHvEvivhHw0iCqIF5s2WBGBblC0BYZurBXGjqLh9LChF55QQIJiY28eiR6gAV9/NZv47ObR1usSWL72fb502grNHQ/5r/5ynwKQ1/DQIVVmiCQNgHLHzy+KpUwN2227LV4vimM/2iPs2WWuctcSzKOdl9LjpDgQd3WFxiyAJaC/SHReLzPl57gBsi/Lc0aJ7c2LiZscNW5kwFRhaBBVzs+kq1pdIp6uChE7zcdIgVEvWfIXimUyhY77XcUI1AQAwfsLoDOHVwWD22lA9tHeLzzt1QBVX6skr4+4cQgfo3Hby7uE/wiLMmfB2KP23beA7lINv4sh4p7jBNxqCBUXSMNJgzU4nRma8Vi52MJ0+ahI+z8cRZylQEpCNhhnvhu0IClaZpKmAmMHL2CLZsM0XPMLeZt3xbiwM7jEEZ0v8tS0aFRJLQXFxs9vvMZ/U2dHOn9h7ZTxbxIn76HMHKo4ghgydJ8FjEqr22JJRIjEJw836HdHPpBz7XkT4ND0242x4MgTtCXh7k6w1pUdi0zKKClQf6dmMFrPrjkfPaGHmPXSEdtRnKpEpUPuFj7jd7jsVZ/ZpONtALF25qSMmYLvo/tkWnQockXpGdKaSEjfS90ltJvw+kYNTMh5cznp9AXNsSOpwT3CIxCTu9uylo8GIlOMSf2JIDTRsWFll5xezMJuF580bIoEqFy0TuStdxgU6ru5UMV5ZkMtDYQbpOJG1rrWfbDUYdqqYc1REkqbIjJof3OpZeJ7bD9vCFv16VoUwUwLxIW6Z4ca99sPTR4PJU45YxbU9CPTUD1WLTk2KKuwRMnz+Ekfmx4c+IzU6Lbvd/+7H4Z0Z5ufUHj3UtUpdFJbRH4wB46dRUXMvdIlLWxb344Sj8MOJCumYZFCGueeGUN3/1EUt1fn31+/XP38lSufrPxrI4n5coLcqR0dsuyKS9PITJuauaYTrRTrmHm4MOGvTXk4+CfdZfQP/b0nB6TuiC2sGWdyPDVRfq6XeYnEEeJiHA5stSdY2SK87QwVZ3DIhiyxumZBFFrdMyCKLWyZkkcUtE7LI4pYJWf4Pb71sWMabak4AAAAASUVORK5CYII=)"
      ],
      "metadata": {
        "id": "LwC6Bk4OM_UD"
      }
    },
    {
      "cell_type": "code",
      "source": [
        "X_b[:3]"
      ],
      "metadata": {
        "colab": {
          "base_uri": "https://localhost:8080/"
        },
        "id": "qQdRcy8iIu6V",
        "outputId": "2e226473-2456-4fc1-a308-0c1c99b1c00e"
      },
      "execution_count": 8,
      "outputs": [
        {
          "output_type": "execute_result",
          "data": {
            "text/plain": [
              "array([[1.        , 0.74908024],\n",
              "       [1.        , 1.90142861],\n",
              "       [1.        , 1.46398788]])"
            ]
          },
          "metadata": {},
          "execution_count": 8
        }
      ]
    },
    {
      "cell_type": "code",
      "source": [
        "eta = 0.1  # learning rate\n",
        "n_epochs = 800\n",
        "m = len(X_b)  # number of instances\n",
        "\n",
        "np.random.seed(42)\n",
        "theta = np.random.randn(2, 1)  # randomly initialized model parameters\n",
        "\n",
        "for epoch in range(n_epochs):\n",
        "  gradients = 2 / m * X_b.T @ (X_b @ theta - y)\n",
        "  theta = theta - eta * gradients\n",
        "  if (epoch % 100 == 0):\n",
        "    print(f\"Theta: {theta}\")"
      ],
      "metadata": {
        "colab": {
          "base_uri": "https://localhost:8080/"
        },
        "id": "_8MLVMjNGFWq",
        "outputId": "08cfe62d-2ad0-4505-ad31-f72d81c46077"
      },
      "execution_count": 9,
      "outputs": [
        {
          "output_type": "stream",
          "name": "stdout",
          "text": [
            "Theta: [[1.78737583]\n",
            " [1.27927812]]\n",
            "Theta: [[4.19533328]\n",
            " [2.78756293]]\n",
            "Theta: [[4.21447076]\n",
            " [2.77066557]]\n",
            "Theta: [[4.21507637]\n",
            " [2.77013086]]\n",
            "Theta: [[4.21509553]\n",
            " [2.77011394]]\n",
            "Theta: [[4.21509614]\n",
            " [2.7701134 ]]\n",
            "Theta: [[4.21509616]\n",
            " [2.77011339]]\n",
            "Theta: [[4.21509616]\n",
            " [2.77011339]]\n"
          ]
        }
      ]
    },
    {
      "cell_type": "markdown",
      "source": [
        "### Stochastic Gradient Descent"
      ],
      "metadata": {
        "id": "rfLx-iDtIYuF"
      }
    },
    {
      "cell_type": "markdown",
      "source": [
        "*Główny problem algorytmu wsadowego gradientu prostego polega na tym, że wykorzystuje on pełny zbiór danych uczących do obliczania gradientu podczas każdego przebiegu, przez co wraz ze wzrostem rozmiaru zbioru uczącego spada jego szybkość. Jego przeciwieństwo stanowi **algorytm stochastycznego\n",
        "spadku wzdłuż gradientu (ang. stochastic gradient descent — SGD)**, w którym podczas każdego przebiegu jest dobierana losowa próbka ucząca, za pomocą której są wyliczane gradienty.\n",
        "Oczywiście przetwarzanie pojedynczych przykładów sprawia, że algorytm ten jest znacznie szybszy, gdyż w każdym przebiegu wykorzystuje niewiele danych. Dzięki temu możemy go również używać wobec dużych zestawów danych, ponieważ podczas każdego przebiegu jest przechowywany w pamięci tylko jeden przykład.\n",
        "Z drugiej strony w wyniku stochastycznej (tj. losowej) natury algorytm ten jest znacznie bardziej „chaotyczny” od jego wsadowego odpowiednika: funkcja kosztu nie schodzi tu łagodnie w kierunku minimum, lecz przeskakuje raz wyżej, raz niżej i dąży do minimum jedynie po uśrednieniu wyników.\n",
        "Po pewnym czasie w końcu trafi w okolicę bliską minimum, ale nie zatrzyma się i ciągle będzie „skakać”. Po zatrzymaniu algorytmu uzyskane wartości będą dobre, ale nie idealnie optymalne.*\n",
        "\n",
        "*Losowość przydaje się więc do ucieczki z minimów lokalnych, ale jednocześnie nie pozwala osiągnąć najniższego punktu funkcji kosztu. Jednym z rozwiązań tego problemu jest stopniowe zmniejszanie współczynnika uczenia. Początkowe kroki są duże (przyspieszamy w ten sposób działanie algorytmu i wydostajemy się z minimów lokalnych), a następnie stają się coraz krótsze, dzięki czemu algorytm\n",
        "pozostaje w okolicach minimum globalnego. Proces ten jest podobny do **symulowanego wyżarzania (ang. simulated annealing)**, algorytmu przypominającego proces wyżarzania w metalurgii, który polega na tym, że roztopiony metal jest stopniowo chłodzony. Funkcja określająca współczynnik uczenia w każdym przebiegu jest nazywana **harmonogramem uczenia (ang. learning schedule)**. Jeżeli zbyt szybko zredukujemy ten współczynnik, możemy utknąć w minimum lokalnym, a nawet pozostać gdzieś w połowie stoku. Z kolei jeżeli harmonogram uczenia będzie malał zbyt powoli, możemy przez długi\n",
        "czas pomijać minimum globalne i uzyskać nieoptymalne rozwiązanie, jeśli zbyt wcześnie zakończymy\n",
        "działanie algorytmu.*"
      ],
      "metadata": {
        "id": "reThvimimkPl"
      }
    },
    {
      "cell_type": "code",
      "source": [
        "n_epochs = 50\n",
        "t0, t1 = 5, 50  # learning schedule hyperparameters\n",
        "m = len(X_b)      # number of instances\n",
        "\n",
        "def learning_schedule(t):\n",
        "    return t0 / (t + t1)\n",
        "\n",
        "np.random.seed(42)\n",
        "theta = np.random.randn(2, 1)  # random initialization\n",
        "\n",
        "for epoch in range(n_epochs):\n",
        "    for iteration in range(m):\n",
        "      random_index = np.random.randint(m)\n",
        "      xi = X_b[random_index : random_index + 1]\n",
        "      yi = y[random_index : random_index + 1]\n",
        "      gradients = 2 * xi.T @ (xi @ theta - yi)  # for SGD, do not divide by m\n",
        "      eta = learning_schedule(epoch * m + iteration)\n",
        "      theta = theta - eta * gradients\n",
        "\n",
        "theta"
      ],
      "metadata": {
        "colab": {
          "base_uri": "https://localhost:8080/"
        },
        "id": "Ob_fE05ey0KA",
        "outputId": "3ca19859-44ef-412f-f75b-b8cdbcdbeffa"
      },
      "execution_count": 10,
      "outputs": [
        {
          "output_type": "execute_result",
          "data": {
            "text/plain": [
              "array([[4.21076011],\n",
              "       [2.74856079]])"
            ]
          },
          "metadata": {},
          "execution_count": 10
        }
      ]
    },
    {
      "cell_type": "markdown",
      "source": [
        "*SGDRegressor działa iteracyjnie — w każdej epoce stara się zminimalizować funkcję straty.*\n",
        "\n",
        "*Po każdej epoce sprawdza, czy funkcja straty nadal wyraźnie maleje.*\n",
        "\n",
        "*Jeśli poprawa jest mniejsza niż tol, uznaje, że algorytm się ustabilizował i kończy uczenie przed osiągnięciem max_iter.*"
      ],
      "metadata": {
        "id": "3DEgk92U6PBz"
      }
    },
    {
      "cell_type": "code",
      "source": [
        "from sklearn.linear_model import SGDRegressor\n",
        "\n",
        "sgd_reg = SGDRegressor(max_iter=1000, tol=0.00001, penalty=None, eta0=0.01,\n",
        "                       n_iter_no_change=100, random_state=42)\n",
        "sgd_reg.fit(X, y.ravel())\n",
        "\n",
        "# tol - Jeśli poprawa funkcji straty pomiędzy epokami spadnie poniżej 0.00001,\n",
        "# uczenie zostanie przerwane wcześniej, mimo że max_iter=1000"
      ],
      "metadata": {
        "colab": {
          "base_uri": "https://localhost:8080/",
          "height": 80
        },
        "id": "dzD73ms12NPS",
        "outputId": "ae4ae5d5-6af3-4ac5-ec32-34732189a6c2"
      },
      "execution_count": 11,
      "outputs": [
        {
          "output_type": "execute_result",
          "data": {
            "text/plain": [
              "SGDRegressor(n_iter_no_change=100, penalty=None, random_state=42, tol=1e-05)"
            ],
            "text/html": [
              "<style>#sk-container-id-1 {\n",
              "  /* Definition of color scheme common for light and dark mode */\n",
              "  --sklearn-color-text: #000;\n",
              "  --sklearn-color-text-muted: #666;\n",
              "  --sklearn-color-line: gray;\n",
              "  /* Definition of color scheme for unfitted estimators */\n",
              "  --sklearn-color-unfitted-level-0: #fff5e6;\n",
              "  --sklearn-color-unfitted-level-1: #f6e4d2;\n",
              "  --sklearn-color-unfitted-level-2: #ffe0b3;\n",
              "  --sklearn-color-unfitted-level-3: chocolate;\n",
              "  /* Definition of color scheme for fitted estimators */\n",
              "  --sklearn-color-fitted-level-0: #f0f8ff;\n",
              "  --sklearn-color-fitted-level-1: #d4ebff;\n",
              "  --sklearn-color-fitted-level-2: #b3dbfd;\n",
              "  --sklearn-color-fitted-level-3: cornflowerblue;\n",
              "\n",
              "  /* Specific color for light theme */\n",
              "  --sklearn-color-text-on-default-background: var(--sg-text-color, var(--theme-code-foreground, var(--jp-content-font-color1, black)));\n",
              "  --sklearn-color-background: var(--sg-background-color, var(--theme-background, var(--jp-layout-color0, white)));\n",
              "  --sklearn-color-border-box: var(--sg-text-color, var(--theme-code-foreground, var(--jp-content-font-color1, black)));\n",
              "  --sklearn-color-icon: #696969;\n",
              "\n",
              "  @media (prefers-color-scheme: dark) {\n",
              "    /* Redefinition of color scheme for dark theme */\n",
              "    --sklearn-color-text-on-default-background: var(--sg-text-color, var(--theme-code-foreground, var(--jp-content-font-color1, white)));\n",
              "    --sklearn-color-background: var(--sg-background-color, var(--theme-background, var(--jp-layout-color0, #111)));\n",
              "    --sklearn-color-border-box: var(--sg-text-color, var(--theme-code-foreground, var(--jp-content-font-color1, white)));\n",
              "    --sklearn-color-icon: #878787;\n",
              "  }\n",
              "}\n",
              "\n",
              "#sk-container-id-1 {\n",
              "  color: var(--sklearn-color-text);\n",
              "}\n",
              "\n",
              "#sk-container-id-1 pre {\n",
              "  padding: 0;\n",
              "}\n",
              "\n",
              "#sk-container-id-1 input.sk-hidden--visually {\n",
              "  border: 0;\n",
              "  clip: rect(1px 1px 1px 1px);\n",
              "  clip: rect(1px, 1px, 1px, 1px);\n",
              "  height: 1px;\n",
              "  margin: -1px;\n",
              "  overflow: hidden;\n",
              "  padding: 0;\n",
              "  position: absolute;\n",
              "  width: 1px;\n",
              "}\n",
              "\n",
              "#sk-container-id-1 div.sk-dashed-wrapped {\n",
              "  border: 1px dashed var(--sklearn-color-line);\n",
              "  margin: 0 0.4em 0.5em 0.4em;\n",
              "  box-sizing: border-box;\n",
              "  padding-bottom: 0.4em;\n",
              "  background-color: var(--sklearn-color-background);\n",
              "}\n",
              "\n",
              "#sk-container-id-1 div.sk-container {\n",
              "  /* jupyter's `normalize.less` sets `[hidden] { display: none; }`\n",
              "     but bootstrap.min.css set `[hidden] { display: none !important; }`\n",
              "     so we also need the `!important` here to be able to override the\n",
              "     default hidden behavior on the sphinx rendered scikit-learn.org.\n",
              "     See: https://github.com/scikit-learn/scikit-learn/issues/21755 */\n",
              "  display: inline-block !important;\n",
              "  position: relative;\n",
              "}\n",
              "\n",
              "#sk-container-id-1 div.sk-text-repr-fallback {\n",
              "  display: none;\n",
              "}\n",
              "\n",
              "div.sk-parallel-item,\n",
              "div.sk-serial,\n",
              "div.sk-item {\n",
              "  /* draw centered vertical line to link estimators */\n",
              "  background-image: linear-gradient(var(--sklearn-color-text-on-default-background), var(--sklearn-color-text-on-default-background));\n",
              "  background-size: 2px 100%;\n",
              "  background-repeat: no-repeat;\n",
              "  background-position: center center;\n",
              "}\n",
              "\n",
              "/* Parallel-specific style estimator block */\n",
              "\n",
              "#sk-container-id-1 div.sk-parallel-item::after {\n",
              "  content: \"\";\n",
              "  width: 100%;\n",
              "  border-bottom: 2px solid var(--sklearn-color-text-on-default-background);\n",
              "  flex-grow: 1;\n",
              "}\n",
              "\n",
              "#sk-container-id-1 div.sk-parallel {\n",
              "  display: flex;\n",
              "  align-items: stretch;\n",
              "  justify-content: center;\n",
              "  background-color: var(--sklearn-color-background);\n",
              "  position: relative;\n",
              "}\n",
              "\n",
              "#sk-container-id-1 div.sk-parallel-item {\n",
              "  display: flex;\n",
              "  flex-direction: column;\n",
              "}\n",
              "\n",
              "#sk-container-id-1 div.sk-parallel-item:first-child::after {\n",
              "  align-self: flex-end;\n",
              "  width: 50%;\n",
              "}\n",
              "\n",
              "#sk-container-id-1 div.sk-parallel-item:last-child::after {\n",
              "  align-self: flex-start;\n",
              "  width: 50%;\n",
              "}\n",
              "\n",
              "#sk-container-id-1 div.sk-parallel-item:only-child::after {\n",
              "  width: 0;\n",
              "}\n",
              "\n",
              "/* Serial-specific style estimator block */\n",
              "\n",
              "#sk-container-id-1 div.sk-serial {\n",
              "  display: flex;\n",
              "  flex-direction: column;\n",
              "  align-items: center;\n",
              "  background-color: var(--sklearn-color-background);\n",
              "  padding-right: 1em;\n",
              "  padding-left: 1em;\n",
              "}\n",
              "\n",
              "\n",
              "/* Toggleable style: style used for estimator/Pipeline/ColumnTransformer box that is\n",
              "clickable and can be expanded/collapsed.\n",
              "- Pipeline and ColumnTransformer use this feature and define the default style\n",
              "- Estimators will overwrite some part of the style using the `sk-estimator` class\n",
              "*/\n",
              "\n",
              "/* Pipeline and ColumnTransformer style (default) */\n",
              "\n",
              "#sk-container-id-1 div.sk-toggleable {\n",
              "  /* Default theme specific background. It is overwritten whether we have a\n",
              "  specific estimator or a Pipeline/ColumnTransformer */\n",
              "  background-color: var(--sklearn-color-background);\n",
              "}\n",
              "\n",
              "/* Toggleable label */\n",
              "#sk-container-id-1 label.sk-toggleable__label {\n",
              "  cursor: pointer;\n",
              "  display: flex;\n",
              "  width: 100%;\n",
              "  margin-bottom: 0;\n",
              "  padding: 0.5em;\n",
              "  box-sizing: border-box;\n",
              "  text-align: center;\n",
              "  align-items: start;\n",
              "  justify-content: space-between;\n",
              "  gap: 0.5em;\n",
              "}\n",
              "\n",
              "#sk-container-id-1 label.sk-toggleable__label .caption {\n",
              "  font-size: 0.6rem;\n",
              "  font-weight: lighter;\n",
              "  color: var(--sklearn-color-text-muted);\n",
              "}\n",
              "\n",
              "#sk-container-id-1 label.sk-toggleable__label-arrow:before {\n",
              "  /* Arrow on the left of the label */\n",
              "  content: \"▸\";\n",
              "  float: left;\n",
              "  margin-right: 0.25em;\n",
              "  color: var(--sklearn-color-icon);\n",
              "}\n",
              "\n",
              "#sk-container-id-1 label.sk-toggleable__label-arrow:hover:before {\n",
              "  color: var(--sklearn-color-text);\n",
              "}\n",
              "\n",
              "/* Toggleable content - dropdown */\n",
              "\n",
              "#sk-container-id-1 div.sk-toggleable__content {\n",
              "  max-height: 0;\n",
              "  max-width: 0;\n",
              "  overflow: hidden;\n",
              "  text-align: left;\n",
              "  /* unfitted */\n",
              "  background-color: var(--sklearn-color-unfitted-level-0);\n",
              "}\n",
              "\n",
              "#sk-container-id-1 div.sk-toggleable__content.fitted {\n",
              "  /* fitted */\n",
              "  background-color: var(--sklearn-color-fitted-level-0);\n",
              "}\n",
              "\n",
              "#sk-container-id-1 div.sk-toggleable__content pre {\n",
              "  margin: 0.2em;\n",
              "  border-radius: 0.25em;\n",
              "  color: var(--sklearn-color-text);\n",
              "  /* unfitted */\n",
              "  background-color: var(--sklearn-color-unfitted-level-0);\n",
              "}\n",
              "\n",
              "#sk-container-id-1 div.sk-toggleable__content.fitted pre {\n",
              "  /* unfitted */\n",
              "  background-color: var(--sklearn-color-fitted-level-0);\n",
              "}\n",
              "\n",
              "#sk-container-id-1 input.sk-toggleable__control:checked~div.sk-toggleable__content {\n",
              "  /* Expand drop-down */\n",
              "  max-height: 200px;\n",
              "  max-width: 100%;\n",
              "  overflow: auto;\n",
              "}\n",
              "\n",
              "#sk-container-id-1 input.sk-toggleable__control:checked~label.sk-toggleable__label-arrow:before {\n",
              "  content: \"▾\";\n",
              "}\n",
              "\n",
              "/* Pipeline/ColumnTransformer-specific style */\n",
              "\n",
              "#sk-container-id-1 div.sk-label input.sk-toggleable__control:checked~label.sk-toggleable__label {\n",
              "  color: var(--sklearn-color-text);\n",
              "  background-color: var(--sklearn-color-unfitted-level-2);\n",
              "}\n",
              "\n",
              "#sk-container-id-1 div.sk-label.fitted input.sk-toggleable__control:checked~label.sk-toggleable__label {\n",
              "  background-color: var(--sklearn-color-fitted-level-2);\n",
              "}\n",
              "\n",
              "/* Estimator-specific style */\n",
              "\n",
              "/* Colorize estimator box */\n",
              "#sk-container-id-1 div.sk-estimator input.sk-toggleable__control:checked~label.sk-toggleable__label {\n",
              "  /* unfitted */\n",
              "  background-color: var(--sklearn-color-unfitted-level-2);\n",
              "}\n",
              "\n",
              "#sk-container-id-1 div.sk-estimator.fitted input.sk-toggleable__control:checked~label.sk-toggleable__label {\n",
              "  /* fitted */\n",
              "  background-color: var(--sklearn-color-fitted-level-2);\n",
              "}\n",
              "\n",
              "#sk-container-id-1 div.sk-label label.sk-toggleable__label,\n",
              "#sk-container-id-1 div.sk-label label {\n",
              "  /* The background is the default theme color */\n",
              "  color: var(--sklearn-color-text-on-default-background);\n",
              "}\n",
              "\n",
              "/* On hover, darken the color of the background */\n",
              "#sk-container-id-1 div.sk-label:hover label.sk-toggleable__label {\n",
              "  color: var(--sklearn-color-text);\n",
              "  background-color: var(--sklearn-color-unfitted-level-2);\n",
              "}\n",
              "\n",
              "/* Label box, darken color on hover, fitted */\n",
              "#sk-container-id-1 div.sk-label.fitted:hover label.sk-toggleable__label.fitted {\n",
              "  color: var(--sklearn-color-text);\n",
              "  background-color: var(--sklearn-color-fitted-level-2);\n",
              "}\n",
              "\n",
              "/* Estimator label */\n",
              "\n",
              "#sk-container-id-1 div.sk-label label {\n",
              "  font-family: monospace;\n",
              "  font-weight: bold;\n",
              "  display: inline-block;\n",
              "  line-height: 1.2em;\n",
              "}\n",
              "\n",
              "#sk-container-id-1 div.sk-label-container {\n",
              "  text-align: center;\n",
              "}\n",
              "\n",
              "/* Estimator-specific */\n",
              "#sk-container-id-1 div.sk-estimator {\n",
              "  font-family: monospace;\n",
              "  border: 1px dotted var(--sklearn-color-border-box);\n",
              "  border-radius: 0.25em;\n",
              "  box-sizing: border-box;\n",
              "  margin-bottom: 0.5em;\n",
              "  /* unfitted */\n",
              "  background-color: var(--sklearn-color-unfitted-level-0);\n",
              "}\n",
              "\n",
              "#sk-container-id-1 div.sk-estimator.fitted {\n",
              "  /* fitted */\n",
              "  background-color: var(--sklearn-color-fitted-level-0);\n",
              "}\n",
              "\n",
              "/* on hover */\n",
              "#sk-container-id-1 div.sk-estimator:hover {\n",
              "  /* unfitted */\n",
              "  background-color: var(--sklearn-color-unfitted-level-2);\n",
              "}\n",
              "\n",
              "#sk-container-id-1 div.sk-estimator.fitted:hover {\n",
              "  /* fitted */\n",
              "  background-color: var(--sklearn-color-fitted-level-2);\n",
              "}\n",
              "\n",
              "/* Specification for estimator info (e.g. \"i\" and \"?\") */\n",
              "\n",
              "/* Common style for \"i\" and \"?\" */\n",
              "\n",
              ".sk-estimator-doc-link,\n",
              "a:link.sk-estimator-doc-link,\n",
              "a:visited.sk-estimator-doc-link {\n",
              "  float: right;\n",
              "  font-size: smaller;\n",
              "  line-height: 1em;\n",
              "  font-family: monospace;\n",
              "  background-color: var(--sklearn-color-background);\n",
              "  border-radius: 1em;\n",
              "  height: 1em;\n",
              "  width: 1em;\n",
              "  text-decoration: none !important;\n",
              "  margin-left: 0.5em;\n",
              "  text-align: center;\n",
              "  /* unfitted */\n",
              "  border: var(--sklearn-color-unfitted-level-1) 1pt solid;\n",
              "  color: var(--sklearn-color-unfitted-level-1);\n",
              "}\n",
              "\n",
              ".sk-estimator-doc-link.fitted,\n",
              "a:link.sk-estimator-doc-link.fitted,\n",
              "a:visited.sk-estimator-doc-link.fitted {\n",
              "  /* fitted */\n",
              "  border: var(--sklearn-color-fitted-level-1) 1pt solid;\n",
              "  color: var(--sklearn-color-fitted-level-1);\n",
              "}\n",
              "\n",
              "/* On hover */\n",
              "div.sk-estimator:hover .sk-estimator-doc-link:hover,\n",
              ".sk-estimator-doc-link:hover,\n",
              "div.sk-label-container:hover .sk-estimator-doc-link:hover,\n",
              ".sk-estimator-doc-link:hover {\n",
              "  /* unfitted */\n",
              "  background-color: var(--sklearn-color-unfitted-level-3);\n",
              "  color: var(--sklearn-color-background);\n",
              "  text-decoration: none;\n",
              "}\n",
              "\n",
              "div.sk-estimator.fitted:hover .sk-estimator-doc-link.fitted:hover,\n",
              ".sk-estimator-doc-link.fitted:hover,\n",
              "div.sk-label-container:hover .sk-estimator-doc-link.fitted:hover,\n",
              ".sk-estimator-doc-link.fitted:hover {\n",
              "  /* fitted */\n",
              "  background-color: var(--sklearn-color-fitted-level-3);\n",
              "  color: var(--sklearn-color-background);\n",
              "  text-decoration: none;\n",
              "}\n",
              "\n",
              "/* Span, style for the box shown on hovering the info icon */\n",
              ".sk-estimator-doc-link span {\n",
              "  display: none;\n",
              "  z-index: 9999;\n",
              "  position: relative;\n",
              "  font-weight: normal;\n",
              "  right: .2ex;\n",
              "  padding: .5ex;\n",
              "  margin: .5ex;\n",
              "  width: min-content;\n",
              "  min-width: 20ex;\n",
              "  max-width: 50ex;\n",
              "  color: var(--sklearn-color-text);\n",
              "  box-shadow: 2pt 2pt 4pt #999;\n",
              "  /* unfitted */\n",
              "  background: var(--sklearn-color-unfitted-level-0);\n",
              "  border: .5pt solid var(--sklearn-color-unfitted-level-3);\n",
              "}\n",
              "\n",
              ".sk-estimator-doc-link.fitted span {\n",
              "  /* fitted */\n",
              "  background: var(--sklearn-color-fitted-level-0);\n",
              "  border: var(--sklearn-color-fitted-level-3);\n",
              "}\n",
              "\n",
              ".sk-estimator-doc-link:hover span {\n",
              "  display: block;\n",
              "}\n",
              "\n",
              "/* \"?\"-specific style due to the `<a>` HTML tag */\n",
              "\n",
              "#sk-container-id-1 a.estimator_doc_link {\n",
              "  float: right;\n",
              "  font-size: 1rem;\n",
              "  line-height: 1em;\n",
              "  font-family: monospace;\n",
              "  background-color: var(--sklearn-color-background);\n",
              "  border-radius: 1rem;\n",
              "  height: 1rem;\n",
              "  width: 1rem;\n",
              "  text-decoration: none;\n",
              "  /* unfitted */\n",
              "  color: var(--sklearn-color-unfitted-level-1);\n",
              "  border: var(--sklearn-color-unfitted-level-1) 1pt solid;\n",
              "}\n",
              "\n",
              "#sk-container-id-1 a.estimator_doc_link.fitted {\n",
              "  /* fitted */\n",
              "  border: var(--sklearn-color-fitted-level-1) 1pt solid;\n",
              "  color: var(--sklearn-color-fitted-level-1);\n",
              "}\n",
              "\n",
              "/* On hover */\n",
              "#sk-container-id-1 a.estimator_doc_link:hover {\n",
              "  /* unfitted */\n",
              "  background-color: var(--sklearn-color-unfitted-level-3);\n",
              "  color: var(--sklearn-color-background);\n",
              "  text-decoration: none;\n",
              "}\n",
              "\n",
              "#sk-container-id-1 a.estimator_doc_link.fitted:hover {\n",
              "  /* fitted */\n",
              "  background-color: var(--sklearn-color-fitted-level-3);\n",
              "}\n",
              "</style><div id=\"sk-container-id-1\" class=\"sk-top-container\"><div class=\"sk-text-repr-fallback\"><pre>SGDRegressor(n_iter_no_change=100, penalty=None, random_state=42, tol=1e-05)</pre><b>In a Jupyter environment, please rerun this cell to show the HTML representation or trust the notebook. <br />On GitHub, the HTML representation is unable to render, please try loading this page with nbviewer.org.</b></div><div class=\"sk-container\" hidden><div class=\"sk-item\"><div class=\"sk-estimator fitted sk-toggleable\"><input class=\"sk-toggleable__control sk-hidden--visually\" id=\"sk-estimator-id-1\" type=\"checkbox\" checked><label for=\"sk-estimator-id-1\" class=\"sk-toggleable__label fitted sk-toggleable__label-arrow\"><div><div>SGDRegressor</div></div><div><a class=\"sk-estimator-doc-link fitted\" rel=\"noreferrer\" target=\"_blank\" href=\"https://scikit-learn.org/1.6/modules/generated/sklearn.linear_model.SGDRegressor.html\">?<span>Documentation for SGDRegressor</span></a><span class=\"sk-estimator-doc-link fitted\">i<span>Fitted</span></span></div></label><div class=\"sk-toggleable__content fitted\"><pre>SGDRegressor(n_iter_no_change=100, penalty=None, random_state=42, tol=1e-05)</pre></div> </div></div></div></div>"
            ]
          },
          "metadata": {},
          "execution_count": 11
        }
      ]
    },
    {
      "cell_type": "code",
      "source": [
        "sgd_reg.intercept_, sgd_reg.coef_"
      ],
      "metadata": {
        "colab": {
          "base_uri": "https://localhost:8080/"
        },
        "id": "pW7-pILp4Fvd",
        "outputId": "2f2b5bfc-1f2a-4db6-b45c-c587ac771a91"
      },
      "execution_count": 12,
      "outputs": [
        {
          "output_type": "execute_result",
          "data": {
            "text/plain": [
              "(array([4.21278812]), array([2.77270267]))"
            ]
          },
          "metadata": {},
          "execution_count": 12
        }
      ]
    },
    {
      "cell_type": "markdown",
      "source": [
        "### Mini-batch gradient descent"
      ],
      "metadata": {
        "id": "sn4v45oD4SVU"
      }
    },
    {
      "cell_type": "markdown",
      "source": [
        "*Ostatnim rodzajem algorytmu gradientu prostego, jakim się zajmiemy, jest metoda **schodzenia po gradiencie z minigrupami (ang. mini-batch gradient descent)**. Łatwo go zrozumieć, gdy znamy już\n",
        "pojęcia wsadowego gradientu prostego i stochastycznego spadku wzdłuż gradientu: tutaj w każdym\n",
        "przebiegu nie obliczamy gradientu na podstawie całego zbioru danych (metoda wsadowa) ani pojedynczych\n",
        "próbek (stochastyczny spadek), lecz przy użyciu niewielkich grup losowo dobieranych danych,\n",
        "tzw. **minigrup lub minipaczek (ang. mini-batches)**. W porównaniu do stochastycznego\n",
        "spadku wzdłuż gradientu główną zaletą tej metody jest znaczne przyspieszenie sprzętowej optymalizacji\n",
        "operacji na macierzach, zwłaszcza jeśli korzystamy z procesorów graficznych.*"
      ],
      "metadata": {
        "id": "SSYF1NYIx7yx"
      }
    },
    {
      "cell_type": "markdown",
      "source": [
        "### Polynomial Regression"
      ],
      "metadata": {
        "id": "KL83ubgWyLo8"
      }
    },
    {
      "cell_type": "markdown",
      "source": [
        "*Co w przypadku, jeśli Twoje dane nie układają się liniowo na wykresie? Co ciekawe, jesteśmy w stanie\n",
        "wytrenować model liniowy do rozpoznawania nieliniowych danych. Najprostszym sposobem jest\n",
        "dodanie potęg każdej cechy w postaci nowej cechy, a następnie wytrenowanie modelu wobec tak rozszerzonego\n",
        "zestawu cech. Technikę tę nazywamy **regresją wielomianową (ang. polynomial regression)**.*"
      ],
      "metadata": {
        "id": "RmIRcBfIjL5L"
      }
    },
    {
      "cell_type": "code",
      "source": [
        "np.random.seed(42)\n",
        "m = 100\n",
        "X = 6 * np.random.rand(m, 1) - 3\n",
        "y = 0.5 * X ** 2 + X + 2 + np.random.randn(m, 1)\n",
        "\n",
        "plt.figure(figsize=(6,4))\n",
        "plt.plot(X, y, \"b.\")\n",
        "plt.xlabel(\"X\")\n",
        "plt.ylabel(\"y\", rotation=0)\n",
        "plt.grid()\n",
        "plt.show()"
      ],
      "metadata": {
        "colab": {
          "base_uri": "https://localhost:8080/",
          "height": 388
        },
        "id": "AneL5xXqzlI8",
        "outputId": "8dd47554-5277-4441-9071-eeeabcf9c993"
      },
      "execution_count": 13,
      "outputs": [
        {
          "output_type": "display_data",
          "data": {
            "text/plain": [
              "<Figure size 600x400 with 1 Axes>"
            ],
            "image/png": "[encoded data removed]"
          },
          "metadata": {}
        }
      ]
    },
    {
      "cell_type": "markdown",
      "source": [
        "*Generate a new feature matrix consisting of all polynomial combinations of the features with degree less than or equal to the specified degree. For example, if an input sample is two dimensional and of the form* [a, b]*, the degree-2 polynomial features are* [1, a, b, a^2, ab, b^2].\n",
        "\n",
        "*PolynomialFeatures służy do tworzenia nowych cech, które są wielomianowymi kombinacjami istniejących cech. Przydaje się szczególnie wtedy, gdy relacja między cechami a zmienną docelową nie jest liniowa. Dzięki temu możesz uczyć nieliniowych modeli przy użyciu liniowych algorytmów (np. `LinearRegression` lub `SGDRegressor`).*\n",
        "\n",
        "*-*\n",
        "\n",
        "**Kiedy warto go użyć?**\n",
        "* Masz dane z widoczną nieliniową zależnością\n",
        "* Chcesz uchwycić złożone zależności między cechami\n",
        "* Chcesz używać prostych, szybkich modeli liniowych, ale z możliwością nieliniowego dopasowania\n",
        "\n",
        "**Nie używaj, gdy:**\n",
        "1.   Masz bardzo duże cech\n",
        "  * Stopień `d` wielomianu i liczba cech `n` powoduje eksplozję liczby kombinacji\n",
        "  * To może prowadzić do przeuczenia (overfittingu) i bardzo dużego zapotrzebowania na RAM.\n",
        "2.   Model już dobrze radzi sobie z nieliniowościami  \n",
        "  * Modele takie jak **drzewa decyzyjne, random forest, XGBoost, SVM z kernelami, sieci neuronowe** potrafią uczyć się nieliniowości bez potrzeby dodawania wielomianowych cech.\n",
        "3.   Nie masz normalizacji danych\n",
        "  * Wielomiany (szczególnie wysokiego stopnia) są **wrażliwe na skalowanie**. Przed ich użyciem dane powinny być przeskalowane, np. za pomocą `StandardScaler`.    "
      ],
      "metadata": {
        "id": "mBQu5XRp4Gpc"
      }
    },
    {
      "cell_type": "code",
      "source": [
        "from sklearn.preprocessing import PolynomialFeatures\n",
        "\n",
        "poly_features = PolynomialFeatures(degree=2, include_bias=False)\n",
        "X_poly = poly_features.fit_transform(X)\n",
        "X[:5], X_poly[:5]"
      ],
      "metadata": {
        "colab": {
          "base_uri": "https://localhost:8080/"
        },
        "id": "S9Ty8dux0i1p",
        "outputId": "29e89a14-565a-46fb-b1a2-5b786ee1f430"
      },
      "execution_count": 14,
      "outputs": [
        {
          "output_type": "execute_result",
          "data": {
            "text/plain": [
              "(array([[-0.75275929],\n",
              "        [ 2.70428584],\n",
              "        [ 1.39196365],\n",
              "        [ 0.59195091],\n",
              "        [-2.06388816]]),\n",
              " array([[-0.75275929,  0.56664654],\n",
              "        [ 2.70428584,  7.3131619 ],\n",
              "        [ 1.39196365,  1.93756281],\n",
              "        [ 0.59195091,  0.35040587],\n",
              "        [-2.06388816,  4.25963433]]))"
            ]
          },
          "metadata": {},
          "execution_count": 14
        }
      ]
    },
    {
      "cell_type": "code",
      "source": [
        "lin_reg = LinearRegression()\n",
        "lin_reg.fit(X_poly, y)\n",
        "lin_reg.intercept_, lin_reg.coef_"
      ],
      "metadata": {
        "colab": {
          "base_uri": "https://localhost:8080/"
        },
        "id": "T4W1q_S26pmU",
        "outputId": "d87479d7-f7f7-41d8-87cb-f5e1a232a5f0"
      },
      "execution_count": 15,
      "outputs": [
        {
          "output_type": "execute_result",
          "data": {
            "text/plain": [
              "(array([1.78134581]), array([[0.93366893, 0.56456263]]))"
            ]
          },
          "metadata": {},
          "execution_count": 15
        }
      ]
    },
    {
      "cell_type": "markdown",
      "source": [
        "Model szacuje wzór: $\\hat{y}=0.56x^2+0.93x+1.78$ podczas gdy oryginalna funkcja ma postać: $\\hat{y}=0.5x^2+1.0x+2.0+szumgaussowski$"
      ],
      "metadata": {
        "id": "vnunZQcI7N4N"
      }
    },
    {
      "cell_type": "code",
      "source": [
        "from sklearn.preprocessing import StandardScaler\n",
        "from sklearn.pipeline import make_pipeline\n",
        "\n",
        "X_new = np.linspace(-3, 3, m).reshape(m, 1)\n",
        "X_new_poly = poly_features.fit_transform(X_new)\n",
        "y_pred = lin_reg.predict(X_new_poly)\n",
        "\n",
        "\n",
        "poly_bigger_features = PolynomialFeatures(degree=20, include_bias=False)\n",
        "std_scaler = StandardScaler()\n",
        "lin_reg = LinearRegression()\n",
        "polynomial_regression = make_pipeline(poly_bigger_features, std_scaler, lin_reg)\n",
        "polynomial_regression.fit(X, y)\n",
        "y_big_predict = polynomial_regression.predict(X_new)\n",
        "\n",
        "plt.figure(figsize=(6, 4))\n",
        "plt.plot(X, y, \"b.\")\n",
        "plt.plot(X_new, y_pred, \"r--\", label=\"Preds - degree 2\")\n",
        "plt.plot(X_new, y_big_predict, \"g-\", label=\"Preds - degree 20\")\n",
        "plt.legend(loc=\"upper left\")\n",
        "plt.show()"
      ],
      "metadata": {
        "colab": {
          "base_uri": "https://localhost:8080/",
          "height": 368
        },
        "id": "RmPC0sh46-M4",
        "outputId": "1dd9ab06-666f-4805-9b8a-a329801c674d"
      },
      "execution_count": 16,
      "outputs": [
        {
          "output_type": "display_data",
          "data": {
            "text/plain": [
              "<Figure size 600x400 with 1 Axes>"
            ],
            "image/png": "[encoded data removed]"
          },
          "metadata": {}
        }
      ]
    },
    {
      "cell_type": "markdown",
      "source": [
        "*Do oszacowania wydajności uogólniania modelu można wykorzystać metodę **sprawdzianu krzyżowego**. Jeżeli model sprawuje się dobrze wobec danych uczących, ale według wskaźników kroswalidacji nie radzi sobie z generalizowaniem, to znaczy, że ulega przetrenowaniu. W przypadku gdy model\n",
        "nie radzi sobie zarówno ze zbiorem uczącym, jak i z uogólnianiem, jest niedotrenowany. Jest to jeden ze sposobów na stwierdzenie, czy model jest za prosty, czy zbyt złożony.*\n",
        "\n",
        "*Inną metodą określenia stopnia złożoności modelu jest **analiza krzywych uczenia (ang. learning curves)**, czyli krzywych błędów dla zbioru uczącego i walidacyjnego w funkcji iteracji trenowania:\n",
        "wystarczy oceniać model w regularnych odstępach podczas uczenia trenowania zarówno na zbiorze uczącym, jak i walidacyjnym, po czym narysować wykres rezultatów. Jeżeli nie można trenować modelu przyrostowo (tj. nie obsługuje metody `partial_fit()` ani parametru `warm_start`), to musisz wyuczyć go kilka razy na coraz większych podzbiorach zbioru uczącego.*\n",
        "\n",
        "\n",
        "*Biblioteka Scikit-Learn zawiera przydatną funkcję `learning_curve()` ułatwiającą to zadanie: trenuje ona i ocenia model za pomocą sprawdzianu krzyżowego. Domyślnie trenuje ona wielokrotnie model na coraz większych podzbiorach zestawu uczącego, jeśli jednak model obsługuje trenowanie przyrostowe, możesz w trakcie wywoływania funkcji `learning_curve` wyznaczyć `exploit_incremental_learning=True`, dzięki czemu zostanie wykorzystana ta strategia. Funkcja ta zwraca rozmiary podzbiorów uczących, za pomocą których był trenowany model, a także oceny uczenia i walidacji zmierzone\n",
        "dla każdego podzbioru i minigrupy sprawdzianu krzyżowego.*"
      ],
      "metadata": {
        "id": "LjHzdiEHCyOD"
      }
    },
    {
      "cell_type": "code",
      "source": [
        "from sklearn.model_selection import learning_curve\n",
        "\n",
        "train_sizes, train_scores, test_scores = learning_curve(\n",
        "    LinearRegression(), X, y, train_sizes=np.linspace(0.01, 1.0, 40),\n",
        "    cv=5, scoring=\"neg_root_mean_squared_error\")\n",
        "\n",
        "train_errors = -train_scores.mean(axis=1)\n",
        "test_errors = -test_scores.mean(axis=1)\n",
        "\n",
        "plt.figure(figsize=(6, 4))\n",
        "plt.plot(train_sizes, train_errors, \"r-+\", linewidth=2, label=\"train\")\n",
        "plt.plot(train_sizes, test_errors, \"b-\", linewidth=2, label=\"valid\")\n",
        "plt.xlabel(\"Training set size\")\n",
        "plt.ylabel(\"RMSE\")\n",
        "plt.grid()\n",
        "plt.legend(loc=\"upper right\")\n",
        "plt.axis([0, 80, 0, 3.2])\n",
        "plt.show()"
      ],
      "metadata": {
        "colab": {
          "base_uri": "https://localhost:8080/",
          "height": 388
        },
        "id": "KGykqCWG8sUt",
        "outputId": "2119e28c-d550-46cf-ec51-7faf855fc962"
      },
      "execution_count": 17,
      "outputs": [
        {
          "output_type": "display_data",
          "data": {
            "text/plain": [
              "<Figure size 600x400 with 1 Axes>"
            ],
            "image/png": "[encoded data removed]"
          },
          "metadata": {}
        }
      ]
    },
    {
      "cell_type": "markdown",
      "source": [
        "*Te krzywe uczenia są charakterystyczne dla niedotrenowanego modelu. Obydwie siągnęły wypłaszczenie; znajdują się blisko siebie i mają dość duże wartości.*\n",
        "\n",
        "*Jeżeli Twój model jest niedotrenowany, dodawanie kolejnych próbek uczących niewiele pomoże. Musisz skorzystać z lepszego modelu lub wprowadzić lepsze cechy.*\n",
        "\n",
        "---\n",
        "\n",
        "Sprawdźmy teraz krzywe uczenia dziesięciostopniowego modelu wielomianowego wobec tych samych danych"
      ],
      "metadata": {
        "id": "GxmBmkdPxywg"
      }
    },
    {
      "cell_type": "code",
      "source": [
        "from sklearn.pipeline import make_pipeline\n",
        "\n",
        "polynomial_regression = make_pipeline(\n",
        "    PolynomialFeatures(degree=10, include_bias=False),\n",
        "    LinearRegression()\n",
        ")\n",
        "\n",
        "train_sizes, train_scores, test_scores = learning_curve(\n",
        "    polynomial_regression, X, y, train_sizes=np.linspace(0.01, 1.0, 40),\n",
        "    cv=5, scoring=\"neg_root_mean_squared_error\")\n",
        "\n",
        "train_errors = -train_scores.mean(axis=1)\n",
        "test_errors = -test_scores.mean(axis=1)\n",
        "\n",
        "plt.figure(figsize=(6, 4))\n",
        "plt.plot(train_sizes, train_errors, \"r-+\", linewidth=2, label=\"train\")\n",
        "plt.plot(train_sizes, test_errors, \"b-\", linewidth=2, label=\"valid\")\n",
        "plt.xlabel(\"Training set size\")\n",
        "plt.ylabel(\"RMSE\")\n",
        "plt.grid()\n",
        "plt.legend(loc=\"upper right\")\n",
        "plt.axis([0, 80, 0, 2.5])\n",
        "plt.show()"
      ],
      "metadata": {
        "colab": {
          "base_uri": "https://localhost:8080/",
          "height": 393
        },
        "id": "6rOain242Oab",
        "outputId": "4f3571f1-57bf-4343-8a6c-8824d5df1d44"
      },
      "execution_count": 18,
      "outputs": [
        {
          "output_type": "display_data",
          "data": {
            "text/plain": [
              "<Figure size 600x400 with 1 Axes>"
            ],
            "image/png": "[encoded data removed]"
          },
          "metadata": {}
        }
      ]
    },
    {
      "cell_type": "markdown",
      "source": [
        "*Wykresy te przypominają nieco krzywe uczenia modelu liniowego, możemy jednak dostrzec dwie\n",
        "bardzo istotne różnice:*\n",
        "* *Błąd dla zbioru uczącego osiąga znacznie niższy poziom niż wcześniej.*\n",
        "* *Istnieje przerwa pomiędzy obydwiema krzywymi. Oznacza to, że model radzi sobie znacznie lepiej z danymi uczącymi niż ze zbiorem walidacyjnym, co stanowi wyznacznik przetrenowania modelu. Gdybyśmy jednak korzystali ze znacznie większych zestawów danych, odległość pomiędzy krzywymi zmniejszałaby się stopniowo.*\n",
        "\n",
        "Jednym ze sposobów na poprawienie przetrenowanego modelu jest wprowadzenie\n",
        "dodatkowych przykładów aż do zrównania się błędu danych uczących z błędem danych\n",
        "walidacyjnych."
      ],
      "metadata": {
        "id": "qE6nLxVr3n0N"
      }
    },
    {
      "cell_type": "markdown",
      "source": [
        "**Kompromis pomiędzy obciążeniem a wariancją**\n",
        "\n",
        "Ważną konsekwencją rozważań łączących statystykę z uczeniem maszynowym jest fakt, że błąd generalizacji modelu można wyrazić w postaci sumy trzech odmiennych rodzajów błędów:\n",
        "* **Obciążenie (ang. bias)**: ta składowa błędu uogólnienia wynika z nieprawidłowych założeń, np. założenia, że dane są liniowe, podczas gdy w rzeczywistości są opisane funkcją kwadratową. *Model o wysokiej wartości obciążenia ma największą szansę na niedotrenowanie wobec danych uczących*.\n",
        "* **Wariancja (ang. variance)**: ta składowa wynika z nadmiernej czułości modelu na drobne wahania w wartościach danych uczących. *Model cechujący się dużą liczbą stopni swobody (np. wielostopniowy model wielomianowy) prawdopodobnie będzie miał dużą wariancję, a przez to będzie przetrenowywany\n",
        "wobec danych uczących.*\n",
        "* **Błąd nieredukowalny (ang. irreducible error)**: ta składowa stanowi konsekwencję zaszumienia danych. Jedynym sposobem pozbycia się jej jest oczyszczenie danych (np. naprawa źródeł danych, takich jak\n",
        "zepsute czujniki, lub wykrywanie i usuwanie elementów odstających).\n",
        "\n",
        "*Zwiększanie złożoności modelu zazwyczaj zwiększa jego wariancję i zmniejsza obciążenie. Odwrotny proces następuje w przypadku uproszczenia modelu. Dlatego mówimy tu u kompromisie.*"
      ],
      "metadata": {
        "id": "lkKVjIHU4x5H"
      }
    },
    {
      "cell_type": "markdown",
      "source": [
        "# Regularized Linear Models"
      ],
      "metadata": {
        "id": "l_UjpKfz5cJO"
      }
    },
    {
      "cell_type": "markdown",
      "source": [
        "## Ridge Regression"
      ],
      "metadata": {
        "id": "m9l2Cp3vVGAE"
      }
    },
    {
      "cell_type": "code",
      "source": [
        "np.random.seed(42)\n",
        "\n",
        "m = 20\n",
        "X = 3 * np.random.rand(m, 1)\n",
        "y = 1 + 0.5 * X + np.random.randn(m, 1) / 1.5\n",
        "\n",
        "X_new = np.linspace(0, 3, 100).reshape(100, 1)"
      ],
      "metadata": {
        "id": "68gJW4P8KgMB"
      },
      "execution_count": 19,
      "outputs": []
    },
    {
      "cell_type": "code",
      "source": [
        "plt.figure(figsize=(5, 3))\n",
        "plt.plot(X, y, \".\")\n",
        "plt.xlabel(\"x\")\n",
        "plt.ylabel(\"y  \", rotation=0)\n",
        "plt.axis([0, 3, 0, 3.5])\n",
        "plt.grid()\n",
        "plt.show()"
      ],
      "metadata": {
        "colab": {
          "base_uri": "https://localhost:8080/",
          "height": 316
        },
        "id": "n0i6WTEpVd3w",
        "outputId": "5836376b-b52d-48e5-b13b-cc8846a5460a"
      },
      "execution_count": 20,
      "outputs": [
        {
          "output_type": "display_data",
          "data": {
            "text/plain": [
              "<Figure size 500x300 with 1 Axes>"
            ],
            "image/png": "[encoded data removed]"
          },
          "metadata": {}
        }
      ]
    },
    {
      "cell_type": "code",
      "source": [
        "from sklearn.linear_model import Ridge\n",
        "\n",
        "# solver{‘auto’, ‘svd’, ‘cholesky’, ‘lsqr’, ‘sparse_cg’, ‘sag’, ‘saga’, ‘lbfgs’}\n",
        "ridge_reg = Ridge(alpha=0.1, solver=\"cholesky\")\n",
        "ridge_reg.fit(X, y)\n",
        "ridge_reg.predict([[1.5]])"
      ],
      "metadata": {
        "colab": {
          "base_uri": "https://localhost:8080/"
        },
        "id": "3w1xGFMzX4BO",
        "outputId": "060ef3ad-13d3-48cc-c1c6-4b0a038361e8"
      },
      "execution_count": 21,
      "outputs": [
        {
          "output_type": "execute_result",
          "data": {
            "text/plain": [
              "array([1.55325833])"
            ]
          },
          "metadata": {},
          "execution_count": 21
        }
      ]
    },
    {
      "cell_type": "code",
      "source": [
        "def plot_model(model_class, polynomial, alphas, **model_kwargs):\n",
        "  plt.plot(X, y, \"b.\", linewidth=3)\n",
        "\n",
        "  for alpha, style in zip(alphas, (\"b:\", \"g--\", \"r-\")):\n",
        "    if alpha > 0:\n",
        "      model = model_class(alpha, **model_kwargs)\n",
        "    else:\n",
        "      model = LinearRegression()\n",
        "\n",
        "    if polynomial:\n",
        "      model = make_pipeline(\n",
        "          PolynomialFeatures(degree=10, include_bias=False),\n",
        "          StandardScaler(),\n",
        "          model)\n",
        "\n",
        "    model.fit(X, y)\n",
        "    y_new_regul = model.predict(X_new)\n",
        "    plt.plot(X_new, y_new_regul, style, linewidth=2,\n",
        "             label=fr\"$\\alpha = {alpha}$\")\n",
        "\n",
        "  plt.legend(loc=\"upper left\")\n",
        "  plt.xlabel(\"x\")\n",
        "  plt.axis([0, 3, 0, 3.5])\n",
        "  plt.grid()\n",
        "\n",
        "\n",
        "plt.figure(figsize=(9, 3.5))\n",
        "plt.subplot(121) # 1 row, 2 columns, first plot (from the left)\n",
        "plot_model(Ridge, polynomial=False, alphas=(0, 10, 100), random_state=42)\n",
        "plt.ylabel(\"y  \", rotation=0)\n",
        "\n",
        "plt.subplot(122)\n",
        "plot_model(Ridge, polynomial=True, alphas=(0, 10**-5, 1), random_state=42)\n",
        "plt.gca().axes.yaxis.set_ticklabels([])\n",
        "plt.show()"
      ],
      "metadata": {
        "colab": {
          "base_uri": "https://localhost:8080/",
          "height": 355
        },
        "id": "NmYGJewrVtxK",
        "outputId": "429ed9ad-ea69-4756-b559-edd282b73cea"
      },
      "execution_count": 22,
      "outputs": [
        {
          "output_type": "display_data",
          "data": {
            "text/plain": [
              "<Figure size 900x350 with 2 Axes>"
            ],
            "image/png": "[encoded data removed]"
          },
          "metadata": {}
        }
      ]
    },
    {
      "cell_type": "markdown",
      "source": [
        "### RidgeCV"
      ],
      "metadata": {
        "id": "gZ1NeOFJZlcT"
      }
    },
    {
      "cell_type": "code",
      "source": [
        "from sklearn.model_selection import train_test_split\n",
        "from sklearn.linear_model import RidgeCV\n",
        "from sklearn.metrics import mean_squared_error\n",
        "\n",
        "np.random.seed(42)\n",
        "X = 6 * np.random.rand(100, 1) - 3\n",
        "y = 0.5 * X**2 + X + 2 + np.random.randn(100, 1)\n",
        "\n",
        "X_train, X_test, y_train, y_test = train_test_split(X, y, random_state=42)\n",
        "\n",
        "model_lin = make_pipeline(\n",
        "    StandardScaler(),\n",
        "    PolynomialFeatures(degree=10, include_bias=False),\n",
        "    LinearRegression()\n",
        ")\n",
        "\n",
        "alphas = np.logspace(-3, 3, 50)\n",
        "model_ridge = make_pipeline(\n",
        "    StandardScaler(),\n",
        "    PolynomialFeatures(degree=10, include_bias=False),\n",
        "    RidgeCV(alphas, scoring='neg_mean_squared_error', cv=5)\n",
        ")\n",
        "\n",
        "model_lin.fit(X_train, y_train)\n",
        "model_ridge.fit(X_train, y_train)\n",
        "\n",
        "y_pred_lin = model_lin.predict(X_test)\n",
        "y_pred_ridge = model_ridge.predict(X_test)\n",
        "\n",
        "mse_lin = mean_squared_error(y_test, y_pred_lin)\n",
        "mse_ridge = mean_squared_error(y_test, y_pred_ridge)\n",
        "\n",
        "print(f\"Linear Regression MSE: {mse_lin:.4f}\")\n",
        "print(f\"RidgeCV Regression MSE: {mse_ridge:.4f}\")\n",
        "print(f\"Selected alpha (Ridge): {model_ridge.named_steps['ridgecv'].alpha_}\")\n",
        "\n",
        "\n",
        "X_plot = np.linspace(-3, 3, 100).reshape(100, 1)\n",
        "y_plot_lin = model_lin.predict(X_plot)\n",
        "y_plot_ridge = model_ridge.predict(X_plot)\n",
        "\n",
        "plt.plot(X_train, y_train, \".\", label='Train data')\n",
        "plt.plot(X_plot, y_plot_lin, \"r--\", label='Linear Regression')\n",
        "plt.plot(X_plot, y_plot_ridge, \"g-\", label='RidgeCV')\n",
        "plt.legend()\n",
        "plt.show()"
      ],
      "metadata": {
        "colab": {
          "base_uri": "https://localhost:8080/",
          "height": 482
        },
        "id": "X4uNT3H1hEhb",
        "outputId": "bb239d94-42a1-4a58-aad6-3005c76eb073"
      },
      "execution_count": 23,
      "outputs": [
        {
          "output_type": "stream",
          "name": "stdout",
          "text": [
            "Linear Regression MSE: 1.0470\n",
            "RidgeCV Regression MSE: 0.8154\n",
            "Selected alpha (Ridge): 0.3727593720314938\n"
          ]
        },
        {
          "output_type": "display_data",
          "data": {
            "text/plain": [
              "<Figure size 640x480 with 1 Axes>"
            ],
            "image/png": "[encoded data removed]"
          },
          "metadata": {}
        }
      ]
    },
    {
      "cell_type": "markdown",
      "source": [
        "*Klasa `RidgeCV` przeprowadza regresję grzbietową, ale automatycznie stroi\n",
        "hiperparametry za pomocą sprawdzianu krzyżowego. Jest ona w przybliżeniu równoważna zastosowaniu klasy `GridSearchCV`, została jednak zoptymalizowana z myślą o regresji grzbietowej i działa znacznie szybciej. Kilka innych estymatorów (głównie liniowych) również zawiera wydajne warianty ze sprawdzianem krzyżowym, na przykład `LassoCV` i `ElasticNetCV`.*"
      ],
      "metadata": {
        "id": "OHriLqVQkfHI"
      }
    },
    {
      "cell_type": "markdown",
      "source": [
        "## Lasso Regression"
      ],
      "metadata": {
        "id": "RzWCKRNQIpKS"
      }
    },
    {
      "cell_type": "code",
      "source": [
        "X = 3 * np.random.rand(m, 1)\n",
        "y = 1 + 0.5 * X + np.random.randn(m, 1) / 1.5\n",
        "X_new = np.linspace(0, 3, 100).reshape(100, 1)"
      ],
      "metadata": {
        "id": "b1ByQBJMZoa8"
      },
      "execution_count": 24,
      "outputs": []
    },
    {
      "cell_type": "code",
      "source": [
        "from sklearn.linear_model import Lasso\n",
        "\n",
        "lasso_reg = Lasso(alpha=0.1)\n",
        "lasso_reg.fit(X, y)\n",
        "lasso_reg.predict([[1.5]])"
      ],
      "metadata": {
        "colab": {
          "base_uri": "https://localhost:8080/"
        },
        "id": "-Fnp6ySxPsee",
        "outputId": "44307e7a-9860-494d-c7ad-9a3dca4c78f3"
      },
      "execution_count": 25,
      "outputs": [
        {
          "output_type": "execute_result",
          "data": {
            "text/plain": [
              "array([1.73090508])"
            ]
          },
          "metadata": {},
          "execution_count": 25
        }
      ]
    },
    {
      "cell_type": "code",
      "source": [
        "plt.figure(figsize=(9, 3.5))\n",
        "\n",
        "plt.subplot(121)\n",
        "plot_model(Lasso, polynomial=False, alphas=(0, 0.1, 1), random_state=42)\n",
        "plt.ylabel(\"y  \", rotation=0)\n",
        "\n",
        "plt.subplot(122)\n",
        "plot_model(Lasso, polynomial=True, alphas=(0, 1e-2, 1), random_state=42)\n",
        "\n",
        "plt.show()"
      ],
      "metadata": {
        "colab": {
          "base_uri": "https://localhost:8080/",
          "height": 355
        },
        "id": "u-MB-PKdZL-k",
        "outputId": "56a0b562-33b8-4d5e-f5fe-46ea87141498"
      },
      "execution_count": 26,
      "outputs": [
        {
          "output_type": "display_data",
          "data": {
            "text/plain": [
              "<Figure size 900x350 with 2 Axes>"
            ],
            "image/png": "[encoded data removed]"
          },
          "metadata": {}
        }
      ]
    },
    {
      "cell_type": "code",
      "source": [
        "from sklearn.datasets import make_regression\n",
        "from sklearn.linear_model import LassoCV\n",
        "\n",
        "X = 6 * np.random.rand(100, 1) - 3\n",
        "y = 0.5 * X**2 + X + 2 + np.random.randn(100, 1)\n",
        "\n",
        "model_lasso = make_pipeline(\n",
        "    StandardScaler(),\n",
        "    PolynomialFeatures(degree=10, include_bias=False),\n",
        "    LassoCV(alphas=np.logspace(0, 1.5, 50), cv=5, random_state=42)\n",
        ")\n",
        "\n",
        "model_lasso.fit(X, y.ravel())\n",
        "best_alpha = model_lasso.named_steps['lassocv'].alpha_\n",
        "best_alpha"
      ],
      "metadata": {
        "colab": {
          "base_uri": "https://localhost:8080/"
        },
        "id": "RuA-xmDJaCWx",
        "outputId": "f4eec8b1-56e6-4964-8619-e15b33a312d0"
      },
      "execution_count": 27,
      "outputs": [
        {
          "output_type": "execute_result",
          "data": {
            "text/plain": [
              "np.float64(1.0)"
            ]
          },
          "metadata": {},
          "execution_count": 27
        }
      ]
    },
    {
      "cell_type": "code",
      "source": [
        "# Współczynniki po LASSO\n",
        "plt.plot(model_lasso.named_steps['lassocv'].coef_, 'o', label='LASSO współczynniki (po CV)', color='red')\n",
        "plt.axhline(0, color='grey', linestyle='--')\n",
        "plt.legend(loc=\"center right\")\n",
        "plt.title(f'LASSO z automatycznie dobranym alpha = {best_alpha:.4f}')\n",
        "plt.show()"
      ],
      "metadata": {
        "colab": {
          "base_uri": "https://localhost:8080/",
          "height": 452
        },
        "id": "k-4APndUfHU3",
        "outputId": "a517692f-a5c5-497f-c751-8c46d9d04780"
      },
      "execution_count": 28,
      "outputs": [
        {
          "output_type": "display_data",
          "data": {
            "text/plain": [
              "<Figure size 640x480 with 1 Axes>"
            ],
            "image/png": "[encoded data removed]"
          },
          "metadata": {}
        }
      ]
    },
    {
      "cell_type": "markdown",
      "source": [
        "## Elastic Net"
      ],
      "metadata": {
        "id": "ivxI4Hotoo2D"
      }
    },
    {
      "cell_type": "markdown",
      "source": [
        "***Metoda elastycznej siatki (ang. elastic net)** stanowi rozwiązanie pośrednie pomiędzy regresją grzbietową\n",
        "a metodą LASSO. Człon regularyzacyjny w tym przypadku tworzy suma ważona obydwu omówionych\n",
        "członów regularyzacji, my zaś możemy nim sterować za pomocą współczynnika proporcji r.*\n",
        "\n",
        "*Gdy r = 0, metoda elastycznej siatki staje się równoważna regresji grzbietowej, natomiast przy r = 1 zachowuje się jak metoda LASSO*\n",
        "\n",
        "***Kiedy więc należy stosować regresję grzbietową, LASSO, elastyczną siatkę, a kiedy zwykłą regresję liniową (tj. nieregularyzowaną)?***\n",
        "\n",
        "*Niemal zawsze warto wprowadzić chociaż odrobinę regularyzacji,\n",
        "dlatego staraj się unikać zwykłej regresji liniowej. Dobrym domyślnym rozwiązaniem okazuje się\n",
        "regresja grzbietowa, ale **jeśli podejrzewasz, że będzie przydatnych tylko kilka cech, lepiej wybrać metodę LASSO lub elastycznej siatki**, ponieważ, jak już wiemy, dążą one do zmniejszania wag najmniej użytecznych cech. Zasadniczo bardziej preferowana jest metoda elastycznej siatki, gdyż metoda\n",
        "LASSO zaczyna nieprawidłowo działać, gdy liczba cech przewyższa liczbę próbek uczących lub gdy istnieje silna korelacja pomiędzy kilkoma cechami.*"
      ],
      "metadata": {
        "id": "bIO6buSaU8QI"
      }
    },
    {
      "cell_type": "code",
      "source": [
        "from sklearn.linear_model import ElasticNet\n",
        "\n",
        "X = 3 * np.random.rand(m, 1)\n",
        "y = 1 + 0.5 * X + np.random.randn(m, 1) / 1.5\n",
        "\n",
        "elastic_net = ElasticNet(alpha=0.1, l1_ratio=0.5)\n",
        "elastic_net.fit(X, y)\n",
        "elastic_net.predict([[1.5]])"
      ],
      "metadata": {
        "colab": {
          "base_uri": "https://localhost:8080/"
        },
        "id": "T2wEJ1EzVG7u",
        "outputId": "840aaa37-ae6f-4246-e7db-ca8019d63707"
      },
      "execution_count": 32,
      "outputs": [
        {
          "output_type": "execute_result",
          "data": {
            "text/plain": [
              "array([1.81302816])"
            ]
          },
          "metadata": {},
          "execution_count": 32
        }
      ]
    },
    {
      "cell_type": "markdown",
      "source": [
        "## Early Stopping"
      ],
      "metadata": {
        "id": "27lCEpV_WVBZ"
      }
    },
    {
      "cell_type": "code",
      "source": [
        "np.random.seed(42)\n",
        "m = 100\n",
        "X = 6 * np.random.rand(m, 1) - 3\n",
        "y = 0.5 * X ** 2 + X + 2 + np.random.randn(m, 1)\n",
        "X[:3], y[:3]"
      ],
      "metadata": {
        "colab": {
          "base_uri": "https://localhost:8080/"
        },
        "id": "-BX378-Nnk1T",
        "outputId": "ea47e6c7-a47c-42bc-aeac-a14d3229b657"
      },
      "execution_count": 40,
      "outputs": [
        {
          "output_type": "execute_result",
          "data": {
            "text/plain": [
              "(array([[-0.75275929],\n",
              "        [ 2.70428584],\n",
              "        [ 1.39196365]]),\n",
              " array([[1.61761105],\n",
              "        [8.06185944],\n",
              "        [4.45250583]]))"
            ]
          },
          "metadata": {},
          "execution_count": 40
        }
      ]
    },
    {
      "cell_type": "code",
      "source": [
        "from sklearn.metrics import root_mean_squared_error\n",
        "from copy import deepcopy\n",
        "\n",
        "X_train, y_train = X[: m // 2], y[: m // 2, 0]\n",
        "X_valid, y_valid = X[m // 2 :], y[m // 2 :, 0]\n",
        "\n",
        "X_train.shape, y_train.shape"
      ],
      "metadata": {
        "colab": {
          "base_uri": "https://localhost:8080/"
        },
        "id": "AaVeVAHJn1QM",
        "outputId": "e336c79a-67ee-4cc5-f605-532d64585dbe"
      },
      "execution_count": 47,
      "outputs": [
        {
          "output_type": "execute_result",
          "data": {
            "text/plain": [
              "((50, 1), (50,))"
            ]
          },
          "metadata": {},
          "execution_count": 47
        }
      ]
    },
    {
      "cell_type": "code",
      "source": [
        "preprocessing = make_pipeline(\n",
        "    PolynomialFeatures(degree=90, include_bias=False),\n",
        "    StandardScaler()\n",
        ")\n",
        "\n",
        "X_train_prep = preprocessing.fit_transform(X_train)\n",
        "X_valid_prep = preprocessing.transform(X_valid)\n",
        "\n",
        "sgd_reg = SGDRegressor(penalty=None, eta0=0.002, random_state=42)\n",
        "\n",
        "n_epochs = 500\n",
        "best_valid_rmse = float(\"inf\")\n",
        "train_errors, val_errors = [], []\n",
        "\n",
        "for epoch in range(n_epochs):\n",
        "  sgd_reg.partial_fit(X_train_prep, y_train)\n",
        "  y_valid_predict = sgd_reg.predict(X_valid_prep)\n",
        "  val_error = root_mean_squared_error(y_valid, y_valid_predict)\n",
        "  if val_error < best_valid_rmse:\n",
        "    best_valid_rmse = val_error\n",
        "    best_model = deepcopy(sgd_reg)\n",
        "\n",
        "  # extra code – we evaluate the train error and save it for the figure\n",
        "  y_train_predict = sgd_reg.predict(X_train_prep)\n",
        "  train_error = root_mean_squared_error(y_train, y_train_predict)\n",
        "  val_errors.append(val_error)\n",
        "  train_errors.append(train_error)\n",
        "\n",
        "best_epoch = np.argmin(val_errors)"
      ],
      "metadata": {
        "id": "nWwIwWempSt4"
      },
      "execution_count": 48,
      "outputs": []
    },
    {
      "cell_type": "code",
      "source": [
        "plt.plot([0, n_epochs], [best_valid_rmse, best_valid_rmse], \"k:\", linewidth=2)\n",
        "plt.plot(val_errors, \"b-\", linewidth=3, label=\"Validation set\")\n",
        "plt.plot(train_errors, \"r--\", linewidth=2, label=\"Training set\")\n",
        "plt.plot(best_epoch, best_valid_rmse, \"bo\")\n",
        "\n",
        "plt.annotate('Best model',\n",
        "             xy=(best_epoch, best_valid_rmse),\n",
        "             xytext=(best_epoch, best_valid_rmse + 0.5),\n",
        "             ha=\"center\",\n",
        "             arrowprops=dict(facecolor='black', shrink=0.05))\n",
        "\n",
        "plt.legend(loc=\"upper right\")\n",
        "plt.xlabel(\"Epoch\")\n",
        "plt.ylabel(\"RMSE\")\n",
        "plt.axis([0, n_epochs, 0, 3.5])\n",
        "plt.grid()\n",
        "plt.show()"
      ],
      "metadata": {
        "colab": {
          "base_uri": "https://localhost:8080/",
          "height": 455
        },
        "id": "6iSmPH3GtDyW",
        "outputId": "4e99b283-5798-42dc-8122-cef9076c6158"
      },
      "execution_count": 52,
      "outputs": [
        {
          "output_type": "display_data",
          "data": {
            "text/plain": [
              "<Figure size 640x480 with 1 Axes>"
            ],
            "image/png": "[encoded data removed]"
          },
          "metadata": {}
        }
      ]
    },
    {
      "cell_type": "markdown",
      "source": [
        "# Logistic Regression"
      ],
      "metadata": {
        "id": "j33kIHjgtOb1"
      }
    },
    {
      "cell_type": "code",
      "source": [
        "from sklearn.datasets import load_iris\n",
        "\n",
        "iris = load_iris(as_frame=True)\n",
        "list(iris)"
      ],
      "metadata": {
        "colab": {
          "base_uri": "https://localhost:8080/"
        },
        "id": "pmgmVICN-SAC",
        "outputId": "50a592aa-ff1f-456c-8ac7-71f12b853384"
      },
      "execution_count": 55,
      "outputs": [
        {
          "output_type": "execute_result",
          "data": {
            "text/plain": [
              "['data',\n",
              " 'target',\n",
              " 'frame',\n",
              " 'target_names',\n",
              " 'DESCR',\n",
              " 'feature_names',\n",
              " 'filename',\n",
              " 'data_module']"
            ]
          },
          "metadata": {},
          "execution_count": 55
        }
      ]
    },
    {
      "cell_type": "code",
      "source": [
        "iris.data.head(3)"
      ],
      "metadata": {
        "colab": {
          "base_uri": "https://localhost:8080/",
          "height": 143
        },
        "id": "QOEO2IoJ-gi6",
        "outputId": "40c7c3e5-1777-4fb8-b3b5-c5c505d45b86"
      },
      "execution_count": 61,
      "outputs": [
        {
          "output_type": "execute_result",
          "data": {
            "text/plain": [
              "   sepal length (cm)  sepal width (cm)  petal length (cm)  petal width (cm)\n",
              "0                5.1               3.5                1.4               0.2\n",
              "1                4.9               3.0                1.4               0.2\n",
              "2                4.7               3.2                1.3               0.2"
            ],
            "text/html": [
              "\n",
              "  <div id=\"df-e4231584-b687-47d7-948c-f545dff101aa\" class=\"colab-df-container\">\n",
              "    <div>\n",
              "<style scoped>\n",
              "    .dataframe tbody tr th:only-of-type {\n",
              "        vertical-align: middle;\n",
              "    }\n",
              "\n",
              "    .dataframe tbody tr th {\n",
              "        vertical-align: top;\n",
              "    }\n",
              "\n",
              "    .dataframe thead th {\n",
              "        text-align: right;\n",
              "    }\n",
              "</style>\n",
              "<table border=\"1\" class=\"dataframe\">\n",
              "  <thead>\n",
              "    <tr style=\"text-align: right;\">\n",
              "      <th></th>\n",
              "      <th>sepal length (cm)</th>\n",
              "      <th>sepal width (cm)</th>\n",
              "      <th>petal length (cm)</th>\n",
              "      <th>petal width (cm)</th>\n",
              "    </tr>\n",
              "  </thead>\n",
              "  <tbody>\n",
              "    <tr>\n",
              "      <th>0</th>\n",
              "      <td>5.1</td>\n",
              "      <td>3.5</td>\n",
              "      <td>1.4</td>\n",
              "      <td>0.2</td>\n",
              "    </tr>\n",
              "    <tr>\n",
              "      <th>1</th>\n",
              "      <td>4.9</td>\n",
              "      <td>3.0</td>\n",
              "      <td>1.4</td>\n",
              "      <td>0.2</td>\n",
              "    </tr>\n",
              "    <tr>\n",
              "      <th>2</th>\n",
              "      <td>4.7</td>\n",
              "      <td>3.2</td>\n",
              "      <td>1.3</td>\n",
              "      <td>0.2</td>\n",
              "    </tr>\n",
              "  </tbody>\n",
              "</table>\n",
              "</div>\n",
              "    <div class=\"colab-df-buttons\">\n",
              "\n",
              "  <div class=\"colab-df-container\">\n",
              "    <button class=\"colab-df-convert\" onclick=\"convertToInteractive('df-e4231584-b687-47d7-948c-f545dff101aa')\"\n",
              "            title=\"Convert this dataframe to an interactive table.\"\n",
              "            style=\"display:none;\">\n",
              "\n",
              "  <svg xmlns=\"http://www.w3.org/2000/svg\" height=\"24px\" viewBox=\"0 -960 960 960\">\n",
              "    <path d=\"M120-120v-720h720v720H120Zm60-500h600v-160H180v160Zm220 220h160v-160H400v160Zm0 220h160v-160H400v160ZM180-400h160v-160H180v160Zm440 0h160v-160H620v160ZM180-180h160v-160H180v160Zm440 0h160v-160H620v160Z\"/>\n",
              "  </svg>\n",
              "    </button>\n",
              "\n",
              "  <style>\n",
              "    .colab-df-container {\n",
              "      display:flex;\n",
              "      gap: 12px;\n",
              "    }\n",
              "\n",
              "    .colab-df-convert {\n",
              "      background-color: #E8F0FE;\n",
              "      border: none;\n",
              "      border-radius: 50%;\n",
              "      cursor: pointer;\n",
              "      display: none;\n",
              "      fill: #1967D2;\n",
              "      height: 32px;\n",
              "      padding: 0 0 0 0;\n",
              "      width: 32px;\n",
              "    }\n",
              "\n",
              "    .colab-df-convert:hover {\n",
              "      background-color: #E2EBFA;\n",
              "      box-shadow: 0px 1px 2px rgba(60, 64, 67, 0.3), 0px 1px 3px 1px rgba(60, 64, 67, 0.15);\n",
              "      fill: #174EA6;\n",
              "    }\n",
              "\n",
              "    .colab-df-buttons div {\n",
              "      margin-bottom: 4px;\n",
              "    }\n",
              "\n",
              "    [theme=dark] .colab-df-convert {\n",
              "      background-color: #3B4455;\n",
              "      fill: #D2E3FC;\n",
              "    }\n",
              "\n",
              "    [theme=dark] .colab-df-convert:hover {\n",
              "      background-color: #434B5C;\n",
              "      box-shadow: 0px 1px 3px 1px rgba(0, 0, 0, 0.15);\n",
              "      filter: drop-shadow(0px 1px 2px rgba(0, 0, 0, 0.3));\n",
              "      fill: #FFFFFF;\n",
              "    }\n",
              "  </style>\n",
              "\n",
              "    <script>\n",
              "      const buttonEl =\n",
              "        document.querySelector('#df-e4231584-b687-47d7-948c-f545dff101aa button.colab-df-convert');\n",
              "      buttonEl.style.display =\n",
              "        google.colab.kernel.accessAllowed ? 'block' : 'none';\n",
              "\n",
              "      async function convertToInteractive(key) {\n",
              "        const element = document.querySelector('#df-e4231584-b687-47d7-948c-f545dff101aa');\n",
              "        const dataTable =\n",
              "          await google.colab.kernel.invokeFunction('convertToInteractive',\n",
              "                                                    [key], {});\n",
              "        if (!dataTable) return;\n",
              "\n",
              "        const docLinkHtml = 'Like what you see? Visit the ' +\n",
              "          '<a target=\"_blank\" href=https://colab.research.google.com/notebooks/data_table.ipynb>data table notebook</a>'\n",
              "          + ' to learn more about interactive tables.';\n",
              "        element.innerHTML = '';\n",
              "        dataTable['output_type'] = 'display_data';\n",
              "        await google.colab.output.renderOutput(dataTable, element);\n",
              "        const docLink = document.createElement('div');\n",
              "        docLink.innerHTML = docLinkHtml;\n",
              "        element.appendChild(docLink);\n",
              "      }\n",
              "    </script>\n",
              "  </div>\n",
              "\n",
              "\n",
              "    <div id=\"df-71cb57f1-8376-449f-aa4d-aafe1fbc5810\">\n",
              "      <button class=\"colab-df-quickchart\" onclick=\"quickchart('df-71cb57f1-8376-449f-aa4d-aafe1fbc5810')\"\n",
              "                title=\"Suggest charts\"\n",
              "                style=\"display:none;\">\n",
              "\n",
              "<svg xmlns=\"http://www.w3.org/2000/svg\" height=\"24px\"viewBox=\"0 0 24 24\"\n",
              "     width=\"24px\">\n",
              "    <g>\n",
              "        <path d=\"M19 3H5c-1.1 0-2 .9-2 2v14c0 1.1.9 2 2 2h14c1.1 0 2-.9 2-2V5c0-1.1-.9-2-2-2zM9 17H7v-7h2v7zm4 0h-2V7h2v10zm4 0h-2v-4h2v4z\"/>\n",
              "    </g>\n",
              "</svg>\n",
              "      </button>\n",
              "\n",
              "<style>\n",
              "  .colab-df-quickchart {\n",
              "      --bg-color: #E8F0FE;\n",
              "      --fill-color: #1967D2;\n",
              "      --hover-bg-color: #E2EBFA;\n",
              "      --hover-fill-color: #174EA6;\n",
              "      --disabled-fill-color: #AAA;\n",
              "      --disabled-bg-color: #DDD;\n",
              "  }\n",
              "\n",
              "  [theme=dark] .colab-df-quickchart {\n",
              "      --bg-color: #3B4455;\n",
              "      --fill-color: #D2E3FC;\n",
              "      --hover-bg-color: #434B5C;\n",
              "      --hover-fill-color: #FFFFFF;\n",
              "      --disabled-bg-color: #3B4455;\n",
              "      --disabled-fill-color: #666;\n",
              "  }\n",
              "\n",
              "  .colab-df-quickchart {\n",
              "    background-color: var(--bg-color);\n",
              "    border: none;\n",
              "    border-radius: 50%;\n",
              "    cursor: pointer;\n",
              "    display: none;\n",
              "    fill: var(--fill-color);\n",
              "    height: 32px;\n",
              "    padding: 0;\n",
              "    width: 32px;\n",
              "  }\n",
              "\n",
              "  .colab-df-quickchart:hover {\n",
              "    background-color: var(--hover-bg-color);\n",
              "    box-shadow: 0 1px 2px rgba(60, 64, 67, 0.3), 0 1px 3px 1px rgba(60, 64, 67, 0.15);\n",
              "    fill: var(--button-hover-fill-color);\n",
              "  }\n",
              "\n",
              "  .colab-df-quickchart-complete:disabled,\n",
              "  .colab-df-quickchart-complete:disabled:hover {\n",
              "    background-color: var(--disabled-bg-color);\n",
              "    fill: var(--disabled-fill-color);\n",
              "    box-shadow: none;\n",
              "  }\n",
              "\n",
              "  .colab-df-spinner {\n",
              "    border: 2px solid var(--fill-color);\n",
              "    border-color: transparent;\n",
              "    border-bottom-color: var(--fill-color);\n",
              "    animation:\n",
              "      spin 1s steps(1) infinite;\n",
              "  }\n",
              "\n",
              "  @keyframes spin {\n",
              "    0% {\n",
              "      border-color: transparent;\n",
              "      border-bottom-color: var(--fill-color);\n",
              "      border-left-color: var(--fill-color);\n",
              "    }\n",
              "    20% {\n",
              "      border-color: transparent;\n",
              "      border-left-color: var(--fill-color);\n",
              "      border-top-color: var(--fill-color);\n",
              "    }\n",
              "    30% {\n",
              "      border-color: transparent;\n",
              "      border-left-color: var(--fill-color);\n",
              "      border-top-color: var(--fill-color);\n",
              "      border-right-color: var(--fill-color);\n",
              "    }\n",
              "    40% {\n",
              "      border-color: transparent;\n",
              "      border-right-color: var(--fill-color);\n",
              "      border-top-color: var(--fill-color);\n",
              "    }\n",
              "    60% {\n",
              "      border-color: transparent;\n",
              "      border-right-color: var(--fill-color);\n",
              "    }\n",
              "    80% {\n",
              "      border-color: transparent;\n",
              "      border-right-color: var(--fill-color);\n",
              "      border-bottom-color: var(--fill-color);\n",
              "    }\n",
              "    90% {\n",
              "      border-color: transparent;\n",
              "      border-bottom-color: var(--fill-color);\n",
              "    }\n",
              "  }\n",
              "</style>\n",
              "\n",
              "      <script>\n",
              "        async function quickchart(key) {\n",
              "          const quickchartButtonEl =\n",
              "            document.querySelector('#' + key + ' button');\n",
              "          quickchartButtonEl.disabled = true;  // To prevent multiple clicks.\n",
              "          quickchartButtonEl.classList.add('colab-df-spinner');\n",
              "          try {\n",
              "            const charts = await google.colab.kernel.invokeFunction(\n",
              "                'suggestCharts', [key], {});\n",
              "          } catch (error) {\n",
              "            console.error('Error during call to suggestCharts:', error);\n",
              "          }\n",
              "          quickchartButtonEl.classList.remove('colab-df-spinner');\n",
              "          quickchartButtonEl.classList.add('colab-df-quickchart-complete');\n",
              "        }\n",
              "        (() => {\n",
              "          let quickchartButtonEl =\n",
              "            document.querySelector('#df-71cb57f1-8376-449f-aa4d-aafe1fbc5810 button');\n",
              "          quickchartButtonEl.style.display =\n",
              "            google.colab.kernel.accessAllowed ? 'block' : 'none';\n",
              "        })();\n",
              "      </script>\n",
              "    </div>\n",
              "\n",
              "    </div>\n",
              "  </div>\n"
            ],
            "application/vnd.google.colaboratory.intrinsic+json": {
              "type": "dataframe",
              "summary": "{\n  \"name\": \"iris\",\n  \"rows\": 3,\n  \"fields\": [\n    {\n      \"column\": \"sepal length (cm)\",\n      \"properties\": {\n        \"dtype\": \"number\",\n        \"std\": 0.19999999999999973,\n        \"min\": 4.7,\n        \"max\": 5.1,\n        \"num_unique_values\": 3,\n        \"samples\": [\n          5.1,\n          4.9,\n          4.7\n        ],\n        \"semantic_type\": \"\",\n        \"description\": \"\"\n      }\n    },\n    {\n      \"column\": \"sepal width (cm)\",\n      \"properties\": {\n        \"dtype\": \"number\",\n        \"std\": 0.2516611478423583,\n        \"min\": 3.0,\n        \"max\": 3.5,\n        \"num_unique_values\": 3,\n        \"samples\": [\n          3.5,\n          3.0,\n          3.2\n        ],\n        \"semantic_type\": \"\",\n        \"description\": \"\"\n      }\n    },\n    {\n      \"column\": \"petal length (cm)\",\n      \"properties\": {\n        \"dtype\": \"number\",\n        \"std\": 0.0577350269189625,\n        \"min\": 1.3,\n        \"max\": 1.4,\n        \"num_unique_values\": 2,\n        \"samples\": [\n          1.3,\n          1.4\n        ],\n        \"semantic_type\": \"\",\n        \"description\": \"\"\n      }\n    },\n    {\n      \"column\": \"petal width (cm)\",\n      \"properties\": {\n        \"dtype\": \"number\",\n        \"std\": 3.3993498887762956e-17,\n        \"min\": 0.2,\n        \"max\": 0.2,\n        \"num_unique_values\": 1,\n        \"samples\": [\n          0.2\n        ],\n        \"semantic_type\": \"\",\n        \"description\": \"\"\n      }\n    }\n  ]\n}"
            }
          },
          "metadata": {},
          "execution_count": 61
        }
      ]
    },
    {
      "cell_type": "code",
      "source": [
        "iris.target[:3]"
      ],
      "metadata": {
        "colab": {
          "base_uri": "https://localhost:8080/",
          "height": 178
        },
        "id": "b853Acbw-64x",
        "outputId": "3cfb65ab-c0cd-47a4-94bb-877c5507a1e4"
      },
      "execution_count": 64,
      "outputs": [
        {
          "output_type": "execute_result",
          "data": {
            "text/plain": [
              "0    0\n",
              "1    0\n",
              "2    0\n",
              "Name: target, dtype: int64"
            ],
            "text/html": [
              "<div>\n",
              "<style scoped>\n",
              "    .dataframe tbody tr th:only-of-type {\n",
              "        vertical-align: middle;\n",
              "    }\n",
              "\n",
              "    .dataframe tbody tr th {\n",
              "        vertical-align: top;\n",
              "    }\n",
              "\n",
              "    .dataframe thead th {\n",
              "        text-align: right;\n",
              "    }\n",
              "</style>\n",
              "<table border=\"1\" class=\"dataframe\">\n",
              "  <thead>\n",
              "    <tr style=\"text-align: right;\">\n",
              "      <th></th>\n",
              "      <th>target</th>\n",
              "    </tr>\n",
              "  </thead>\n",
              "  <tbody>\n",
              "    <tr>\n",
              "      <th>0</th>\n",
              "      <td>0</td>\n",
              "    </tr>\n",
              "    <tr>\n",
              "      <th>1</th>\n",
              "      <td>0</td>\n",
              "    </tr>\n",
              "    <tr>\n",
              "      <th>2</th>\n",
              "      <td>0</td>\n",
              "    </tr>\n",
              "  </tbody>\n",
              "</table>\n",
              "</div><br><label><b>dtype:</b> int64</label>"
            ]
          },
          "metadata": {},
          "execution_count": 64
        }
      ]
    },
    {
      "cell_type": "code",
      "source": [
        "iris.target_names"
      ],
      "metadata": {
        "colab": {
          "base_uri": "https://localhost:8080/"
        },
        "id": "Pf6YqKiI_Gpo",
        "outputId": "44aed8d4-b28f-42d8-8c3f-d13b185fe5d7"
      },
      "execution_count": 65,
      "outputs": [
        {
          "output_type": "execute_result",
          "data": {
            "text/plain": [
              "array(['setosa', 'versicolor', 'virginica'], dtype='<U10')"
            ]
          },
          "metadata": {},
          "execution_count": 65
        }
      ]
    },
    {
      "cell_type": "markdown",
      "source": [
        "*Spróbujmy stworzyć klasyfikator rozpoznający gatunek Iris virginica jedynie na podstawie szerokości\n",
        "płatka.*"
      ],
      "metadata": {
        "id": "qBqyGPwp_1OV"
      }
    },
    {
      "cell_type": "code",
      "source": [
        "from sklearn.linear_model import LogisticRegression\n",
        "from sklearn.model_selection import train_test_split\n",
        "\n",
        "X = iris.data[[\"petal width (cm)\"]].values\n",
        "y = iris.target_names[iris.target] == 'virginica'\n",
        "\n",
        "X[:5], y[:5]"
      ],
      "metadata": {
        "colab": {
          "base_uri": "https://localhost:8080/"
        },
        "id": "QyjbqwPz_RpN",
        "outputId": "d1a02634-b118-42c4-9eb4-e9a2d4af2cb8"
      },
      "execution_count": 73,
      "outputs": [
        {
          "output_type": "execute_result",
          "data": {
            "text/plain": [
              "(array([[0.2],\n",
              "        [0.2],\n",
              "        [0.2],\n",
              "        [0.2],\n",
              "        [0.2]]),\n",
              " array([False, False, False, False, False]))"
            ]
          },
          "metadata": {},
          "execution_count": 73
        }
      ]
    },
    {
      "cell_type": "code",
      "source": [
        "X.min(), X.max()"
      ],
      "metadata": {
        "colab": {
          "base_uri": "https://localhost:8080/"
        },
        "id": "UtpC_FGgBx_B",
        "outputId": "0d5f9190-6e7b-466f-8414-67edbd85388d"
      },
      "execution_count": 74,
      "outputs": [
        {
          "output_type": "execute_result",
          "data": {
            "text/plain": [
              "(np.float64(0.1), np.float64(2.5))"
            ]
          },
          "metadata": {},
          "execution_count": 74
        }
      ]
    },
    {
      "cell_type": "code",
      "source": [
        "X_train, X_test, y_train, y_test = train_test_split(X, y, random_state=42)\n",
        "\n",
        "log_reg = LogisticRegression(random_state=42)\n",
        "log_reg.fit(X_train, y_train)"
      ],
      "metadata": {
        "colab": {
          "base_uri": "https://localhost:8080/",
          "height": 80
        },
        "id": "5DACTCgZA8wp",
        "outputId": "c384cfbc-cf70-44ae-cf9f-b5343ab7b892"
      },
      "execution_count": 69,
      "outputs": [
        {
          "output_type": "execute_result",
          "data": {
            "text/plain": [
              "LogisticRegression(random_state=42)"
            ],
            "text/html": [
              "<style>#sk-container-id-2 {\n",
              "  /* Definition of color scheme common for light and dark mode */\n",
              "  --sklearn-color-text: #000;\n",
              "  --sklearn-color-text-muted: #666;\n",
              "  --sklearn-color-line: gray;\n",
              "  /* Definition of color scheme for unfitted estimators */\n",
              "  --sklearn-color-unfitted-level-0: #fff5e6;\n",
              "  --sklearn-color-unfitted-level-1: #f6e4d2;\n",
              "  --sklearn-color-unfitted-level-2: #ffe0b3;\n",
              "  --sklearn-color-unfitted-level-3: chocolate;\n",
              "  /* Definition of color scheme for fitted estimators */\n",
              "  --sklearn-color-fitted-level-0: #f0f8ff;\n",
              "  --sklearn-color-fitted-level-1: #d4ebff;\n",
              "  --sklearn-color-fitted-level-2: #b3dbfd;\n",
              "  --sklearn-color-fitted-level-3: cornflowerblue;\n",
              "\n",
              "  /* Specific color for light theme */\n",
              "  --sklearn-color-text-on-default-background: var(--sg-text-color, var(--theme-code-foreground, var(--jp-content-font-color1, black)));\n",
              "  --sklearn-color-background: var(--sg-background-color, var(--theme-background, var(--jp-layout-color0, white)));\n",
              "  --sklearn-color-border-box: var(--sg-text-color, var(--theme-code-foreground, var(--jp-content-font-color1, black)));\n",
              "  --sklearn-color-icon: #696969;\n",
              "\n",
              "  @media (prefers-color-scheme: dark) {\n",
              "    /* Redefinition of color scheme for dark theme */\n",
              "    --sklearn-color-text-on-default-background: var(--sg-text-color, var(--theme-code-foreground, var(--jp-content-font-color1, white)));\n",
              "    --sklearn-color-background: var(--sg-background-color, var(--theme-background, var(--jp-layout-color0, #111)));\n",
              "    --sklearn-color-border-box: var(--sg-text-color, var(--theme-code-foreground, var(--jp-content-font-color1, white)));\n",
              "    --sklearn-color-icon: #878787;\n",
              "  }\n",
              "}\n",
              "\n",
              "#sk-container-id-2 {\n",
              "  color: var(--sklearn-color-text);\n",
              "}\n",
              "\n",
              "#sk-container-id-2 pre {\n",
              "  padding: 0;\n",
              "}\n",
              "\n",
              "#sk-container-id-2 input.sk-hidden--visually {\n",
              "  border: 0;\n",
              "  clip: rect(1px 1px 1px 1px);\n",
              "  clip: rect(1px, 1px, 1px, 1px);\n",
              "  height: 1px;\n",
              "  margin: -1px;\n",
              "  overflow: hidden;\n",
              "  padding: 0;\n",
              "  position: absolute;\n",
              "  width: 1px;\n",
              "}\n",
              "\n",
              "#sk-container-id-2 div.sk-dashed-wrapped {\n",
              "  border: 1px dashed var(--sklearn-color-line);\n",
              "  margin: 0 0.4em 0.5em 0.4em;\n",
              "  box-sizing: border-box;\n",
              "  padding-bottom: 0.4em;\n",
              "  background-color: var(--sklearn-color-background);\n",
              "}\n",
              "\n",
              "#sk-container-id-2 div.sk-container {\n",
              "  /* jupyter's `normalize.less` sets `[hidden] { display: none; }`\n",
              "     but bootstrap.min.css set `[hidden] { display: none !important; }`\n",
              "     so we also need the `!important` here to be able to override the\n",
              "     default hidden behavior on the sphinx rendered scikit-learn.org.\n",
              "     See: https://github.com/scikit-learn/scikit-learn/issues/21755 */\n",
              "  display: inline-block !important;\n",
              "  position: relative;\n",
              "}\n",
              "\n",
              "#sk-container-id-2 div.sk-text-repr-fallback {\n",
              "  display: none;\n",
              "}\n",
              "\n",
              "div.sk-parallel-item,\n",
              "div.sk-serial,\n",
              "div.sk-item {\n",
              "  /* draw centered vertical line to link estimators */\n",
              "  background-image: linear-gradient(var(--sklearn-color-text-on-default-background), var(--sklearn-color-text-on-default-background));\n",
              "  background-size: 2px 100%;\n",
              "  background-repeat: no-repeat;\n",
              "  background-position: center center;\n",
              "}\n",
              "\n",
              "/* Parallel-specific style estimator block */\n",
              "\n",
              "#sk-container-id-2 div.sk-parallel-item::after {\n",
              "  content: \"\";\n",
              "  width: 100%;\n",
              "  border-bottom: 2px solid var(--sklearn-color-text-on-default-background);\n",
              "  flex-grow: 1;\n",
              "}\n",
              "\n",
              "#sk-container-id-2 div.sk-parallel {\n",
              "  display: flex;\n",
              "  align-items: stretch;\n",
              "  justify-content: center;\n",
              "  background-color: var(--sklearn-color-background);\n",
              "  position: relative;\n",
              "}\n",
              "\n",
              "#sk-container-id-2 div.sk-parallel-item {\n",
              "  display: flex;\n",
              "  flex-direction: column;\n",
              "}\n",
              "\n",
              "#sk-container-id-2 div.sk-parallel-item:first-child::after {\n",
              "  align-self: flex-end;\n",
              "  width: 50%;\n",
              "}\n",
              "\n",
              "#sk-container-id-2 div.sk-parallel-item:last-child::after {\n",
              "  align-self: flex-start;\n",
              "  width: 50%;\n",
              "}\n",
              "\n",
              "#sk-container-id-2 div.sk-parallel-item:only-child::after {\n",
              "  width: 0;\n",
              "}\n",
              "\n",
              "/* Serial-specific style estimator block */\n",
              "\n",
              "#sk-container-id-2 div.sk-serial {\n",
              "  display: flex;\n",
              "  flex-direction: column;\n",
              "  align-items: center;\n",
              "  background-color: var(--sklearn-color-background);\n",
              "  padding-right: 1em;\n",
              "  padding-left: 1em;\n",
              "}\n",
              "\n",
              "\n",
              "/* Toggleable style: style used for estimator/Pipeline/ColumnTransformer box that is\n",
              "clickable and can be expanded/collapsed.\n",
              "- Pipeline and ColumnTransformer use this feature and define the default style\n",
              "- Estimators will overwrite some part of the style using the `sk-estimator` class\n",
              "*/\n",
              "\n",
              "/* Pipeline and ColumnTransformer style (default) */\n",
              "\n",
              "#sk-container-id-2 div.sk-toggleable {\n",
              "  /* Default theme specific background. It is overwritten whether we have a\n",
              "  specific estimator or a Pipeline/ColumnTransformer */\n",
              "  background-color: var(--sklearn-color-background);\n",
              "}\n",
              "\n",
              "/* Toggleable label */\n",
              "#sk-container-id-2 label.sk-toggleable__label {\n",
              "  cursor: pointer;\n",
              "  display: flex;\n",
              "  width: 100%;\n",
              "  margin-bottom: 0;\n",
              "  padding: 0.5em;\n",
              "  box-sizing: border-box;\n",
              "  text-align: center;\n",
              "  align-items: start;\n",
              "  justify-content: space-between;\n",
              "  gap: 0.5em;\n",
              "}\n",
              "\n",
              "#sk-container-id-2 label.sk-toggleable__label .caption {\n",
              "  font-size: 0.6rem;\n",
              "  font-weight: lighter;\n",
              "  color: var(--sklearn-color-text-muted);\n",
              "}\n",
              "\n",
              "#sk-container-id-2 label.sk-toggleable__label-arrow:before {\n",
              "  /* Arrow on the left of the label */\n",
              "  content: \"▸\";\n",
              "  float: left;\n",
              "  margin-right: 0.25em;\n",
              "  color: var(--sklearn-color-icon);\n",
              "}\n",
              "\n",
              "#sk-container-id-2 label.sk-toggleable__label-arrow:hover:before {\n",
              "  color: var(--sklearn-color-text);\n",
              "}\n",
              "\n",
              "/* Toggleable content - dropdown */\n",
              "\n",
              "#sk-container-id-2 div.sk-toggleable__content {\n",
              "  max-height: 0;\n",
              "  max-width: 0;\n",
              "  overflow: hidden;\n",
              "  text-align: left;\n",
              "  /* unfitted */\n",
              "  background-color: var(--sklearn-color-unfitted-level-0);\n",
              "}\n",
              "\n",
              "#sk-container-id-2 div.sk-toggleable__content.fitted {\n",
              "  /* fitted */\n",
              "  background-color: var(--sklearn-color-fitted-level-0);\n",
              "}\n",
              "\n",
              "#sk-container-id-2 div.sk-toggleable__content pre {\n",
              "  margin: 0.2em;\n",
              "  border-radius: 0.25em;\n",
              "  color: var(--sklearn-color-text);\n",
              "  /* unfitted */\n",
              "  background-color: var(--sklearn-color-unfitted-level-0);\n",
              "}\n",
              "\n",
              "#sk-container-id-2 div.sk-toggleable__content.fitted pre {\n",
              "  /* unfitted */\n",
              "  background-color: var(--sklearn-color-fitted-level-0);\n",
              "}\n",
              "\n",
              "#sk-container-id-2 input.sk-toggleable__control:checked~div.sk-toggleable__content {\n",
              "  /* Expand drop-down */\n",
              "  max-height: 200px;\n",
              "  max-width: 100%;\n",
              "  overflow: auto;\n",
              "}\n",
              "\n",
              "#sk-container-id-2 input.sk-toggleable__control:checked~label.sk-toggleable__label-arrow:before {\n",
              "  content: \"▾\";\n",
              "}\n",
              "\n",
              "/* Pipeline/ColumnTransformer-specific style */\n",
              "\n",
              "#sk-container-id-2 div.sk-label input.sk-toggleable__control:checked~label.sk-toggleable__label {\n",
              "  color: var(--sklearn-color-text);\n",
              "  background-color: var(--sklearn-color-unfitted-level-2);\n",
              "}\n",
              "\n",
              "#sk-container-id-2 div.sk-label.fitted input.sk-toggleable__control:checked~label.sk-toggleable__label {\n",
              "  background-color: var(--sklearn-color-fitted-level-2);\n",
              "}\n",
              "\n",
              "/* Estimator-specific style */\n",
              "\n",
              "/* Colorize estimator box */\n",
              "#sk-container-id-2 div.sk-estimator input.sk-toggleable__control:checked~label.sk-toggleable__label {\n",
              "  /* unfitted */\n",
              "  background-color: var(--sklearn-color-unfitted-level-2);\n",
              "}\n",
              "\n",
              "#sk-container-id-2 div.sk-estimator.fitted input.sk-toggleable__control:checked~label.sk-toggleable__label {\n",
              "  /* fitted */\n",
              "  background-color: var(--sklearn-color-fitted-level-2);\n",
              "}\n",
              "\n",
              "#sk-container-id-2 div.sk-label label.sk-toggleable__label,\n",
              "#sk-container-id-2 div.sk-label label {\n",
              "  /* The background is the default theme color */\n",
              "  color: var(--sklearn-color-text-on-default-background);\n",
              "}\n",
              "\n",
              "/* On hover, darken the color of the background */\n",
              "#sk-container-id-2 div.sk-label:hover label.sk-toggleable__label {\n",
              "  color: var(--sklearn-color-text);\n",
              "  background-color: var(--sklearn-color-unfitted-level-2);\n",
              "}\n",
              "\n",
              "/* Label box, darken color on hover, fitted */\n",
              "#sk-container-id-2 div.sk-label.fitted:hover label.sk-toggleable__label.fitted {\n",
              "  color: var(--sklearn-color-text);\n",
              "  background-color: var(--sklearn-color-fitted-level-2);\n",
              "}\n",
              "\n",
              "/* Estimator label */\n",
              "\n",
              "#sk-container-id-2 div.sk-label label {\n",
              "  font-family: monospace;\n",
              "  font-weight: bold;\n",
              "  display: inline-block;\n",
              "  line-height: 1.2em;\n",
              "}\n",
              "\n",
              "#sk-container-id-2 div.sk-label-container {\n",
              "  text-align: center;\n",
              "}\n",
              "\n",
              "/* Estimator-specific */\n",
              "#sk-container-id-2 div.sk-estimator {\n",
              "  font-family: monospace;\n",
              "  border: 1px dotted var(--sklearn-color-border-box);\n",
              "  border-radius: 0.25em;\n",
              "  box-sizing: border-box;\n",
              "  margin-bottom: 0.5em;\n",
              "  /* unfitted */\n",
              "  background-color: var(--sklearn-color-unfitted-level-0);\n",
              "}\n",
              "\n",
              "#sk-container-id-2 div.sk-estimator.fitted {\n",
              "  /* fitted */\n",
              "  background-color: var(--sklearn-color-fitted-level-0);\n",
              "}\n",
              "\n",
              "/* on hover */\n",
              "#sk-container-id-2 div.sk-estimator:hover {\n",
              "  /* unfitted */\n",
              "  background-color: var(--sklearn-color-unfitted-level-2);\n",
              "}\n",
              "\n",
              "#sk-container-id-2 div.sk-estimator.fitted:hover {\n",
              "  /* fitted */\n",
              "  background-color: var(--sklearn-color-fitted-level-2);\n",
              "}\n",
              "\n",
              "/* Specification for estimator info (e.g. \"i\" and \"?\") */\n",
              "\n",
              "/* Common style for \"i\" and \"?\" */\n",
              "\n",
              ".sk-estimator-doc-link,\n",
              "a:link.sk-estimator-doc-link,\n",
              "a:visited.sk-estimator-doc-link {\n",
              "  float: right;\n",
              "  font-size: smaller;\n",
              "  line-height: 1em;\n",
              "  font-family: monospace;\n",
              "  background-color: var(--sklearn-color-background);\n",
              "  border-radius: 1em;\n",
              "  height: 1em;\n",
              "  width: 1em;\n",
              "  text-decoration: none !important;\n",
              "  margin-left: 0.5em;\n",
              "  text-align: center;\n",
              "  /* unfitted */\n",
              "  border: var(--sklearn-color-unfitted-level-1) 1pt solid;\n",
              "  color: var(--sklearn-color-unfitted-level-1);\n",
              "}\n",
              "\n",
              ".sk-estimator-doc-link.fitted,\n",
              "a:link.sk-estimator-doc-link.fitted,\n",
              "a:visited.sk-estimator-doc-link.fitted {\n",
              "  /* fitted */\n",
              "  border: var(--sklearn-color-fitted-level-1) 1pt solid;\n",
              "  color: var(--sklearn-color-fitted-level-1);\n",
              "}\n",
              "\n",
              "/* On hover */\n",
              "div.sk-estimator:hover .sk-estimator-doc-link:hover,\n",
              ".sk-estimator-doc-link:hover,\n",
              "div.sk-label-container:hover .sk-estimator-doc-link:hover,\n",
              ".sk-estimator-doc-link:hover {\n",
              "  /* unfitted */\n",
              "  background-color: var(--sklearn-color-unfitted-level-3);\n",
              "  color: var(--sklearn-color-background);\n",
              "  text-decoration: none;\n",
              "}\n",
              "\n",
              "div.sk-estimator.fitted:hover .sk-estimator-doc-link.fitted:hover,\n",
              ".sk-estimator-doc-link.fitted:hover,\n",
              "div.sk-label-container:hover .sk-estimator-doc-link.fitted:hover,\n",
              ".sk-estimator-doc-link.fitted:hover {\n",
              "  /* fitted */\n",
              "  background-color: var(--sklearn-color-fitted-level-3);\n",
              "  color: var(--sklearn-color-background);\n",
              "  text-decoration: none;\n",
              "}\n",
              "\n",
              "/* Span, style for the box shown on hovering the info icon */\n",
              ".sk-estimator-doc-link span {\n",
              "  display: none;\n",
              "  z-index: 9999;\n",
              "  position: relative;\n",
              "  font-weight: normal;\n",
              "  right: .2ex;\n",
              "  padding: .5ex;\n",
              "  margin: .5ex;\n",
              "  width: min-content;\n",
              "  min-width: 20ex;\n",
              "  max-width: 50ex;\n",
              "  color: var(--sklearn-color-text);\n",
              "  box-shadow: 2pt 2pt 4pt #999;\n",
              "  /* unfitted */\n",
              "  background: var(--sklearn-color-unfitted-level-0);\n",
              "  border: .5pt solid var(--sklearn-color-unfitted-level-3);\n",
              "}\n",
              "\n",
              ".sk-estimator-doc-link.fitted span {\n",
              "  /* fitted */\n",
              "  background: var(--sklearn-color-fitted-level-0);\n",
              "  border: var(--sklearn-color-fitted-level-3);\n",
              "}\n",
              "\n",
              ".sk-estimator-doc-link:hover span {\n",
              "  display: block;\n",
              "}\n",
              "\n",
              "/* \"?\"-specific style due to the `<a>` HTML tag */\n",
              "\n",
              "#sk-container-id-2 a.estimator_doc_link {\n",
              "  float: right;\n",
              "  font-size: 1rem;\n",
              "  line-height: 1em;\n",
              "  font-family: monospace;\n",
              "  background-color: var(--sklearn-color-background);\n",
              "  border-radius: 1rem;\n",
              "  height: 1rem;\n",
              "  width: 1rem;\n",
              "  text-decoration: none;\n",
              "  /* unfitted */\n",
              "  color: var(--sklearn-color-unfitted-level-1);\n",
              "  border: var(--sklearn-color-unfitted-level-1) 1pt solid;\n",
              "}\n",
              "\n",
              "#sk-container-id-2 a.estimator_doc_link.fitted {\n",
              "  /* fitted */\n",
              "  border: var(--sklearn-color-fitted-level-1) 1pt solid;\n",
              "  color: var(--sklearn-color-fitted-level-1);\n",
              "}\n",
              "\n",
              "/* On hover */\n",
              "#sk-container-id-2 a.estimator_doc_link:hover {\n",
              "  /* unfitted */\n",
              "  background-color: var(--sklearn-color-unfitted-level-3);\n",
              "  color: var(--sklearn-color-background);\n",
              "  text-decoration: none;\n",
              "}\n",
              "\n",
              "#sk-container-id-2 a.estimator_doc_link.fitted:hover {\n",
              "  /* fitted */\n",
              "  background-color: var(--sklearn-color-fitted-level-3);\n",
              "}\n",
              "</style><div id=\"sk-container-id-2\" class=\"sk-top-container\"><div class=\"sk-text-repr-fallback\"><pre>LogisticRegression(random_state=42)</pre><b>In a Jupyter environment, please rerun this cell to show the HTML representation or trust the notebook. <br />On GitHub, the HTML representation is unable to render, please try loading this page with nbviewer.org.</b></div><div class=\"sk-container\" hidden><div class=\"sk-item\"><div class=\"sk-estimator fitted sk-toggleable\"><input class=\"sk-toggleable__control sk-hidden--visually\" id=\"sk-estimator-id-2\" type=\"checkbox\" checked><label for=\"sk-estimator-id-2\" class=\"sk-toggleable__label fitted sk-toggleable__label-arrow\"><div><div>LogisticRegression</div></div><div><a class=\"sk-estimator-doc-link fitted\" rel=\"noreferrer\" target=\"_blank\" href=\"https://scikit-learn.org/1.6/modules/generated/sklearn.linear_model.LogisticRegression.html\">?<span>Documentation for LogisticRegression</span></a><span class=\"sk-estimator-doc-link fitted\">i<span>Fitted</span></span></div></label><div class=\"sk-toggleable__content fitted\"><pre>LogisticRegression(random_state=42)</pre></div> </div></div></div></div>"
            ]
          },
          "metadata": {},
          "execution_count": 69
        }
      ]
    },
    {
      "cell_type": "code",
      "source": [
        "X_new = np.linspace(0, 3, 1000).reshape(-1, 1)  # reshape to get a column vector\n",
        "y_proba = log_reg.predict_proba(X_new)"
      ],
      "metadata": {
        "id": "09Atf6bUBOwr"
      },
      "execution_count": 75,
      "outputs": []
    },
    {
      "cell_type": "code",
      "source": [
        "X_new[:3], y_proba[:3]"
      ],
      "metadata": {
        "colab": {
          "base_uri": "https://localhost:8080/"
        },
        "id": "rUxIdYaWClic",
        "outputId": "e81bc7d3-5980-4942-b3f5-73c8c7864177"
      },
      "execution_count": 80,
      "outputs": [
        {
          "output_type": "execute_result",
          "data": {
            "text/plain": [
              "(array([[0.        ],\n",
              "        [0.003003  ],\n",
              "        [0.00600601]]),\n",
              " array([[0.99820801, 0.00179199],\n",
              "        [0.99818732, 0.00181268],\n",
              "        [0.99816638, 0.00183362]]))"
            ]
          },
          "metadata": {},
          "execution_count": 80
        }
      ]
    },
    {
      "cell_type": "code",
      "source": [
        "plt.figure(figsize=(8, 3))\n",
        "\n",
        "plt.plot(X_new, y_proba[:, 0], \"b--\", linewidth=2,\n",
        "         label=\"Not Iris virginica proba\")\n",
        "plt.plot(X_new, y_proba[:, 1], \"g-\", linewidth=2, label=\"Iris virginica proba\")\n",
        "\n",
        "plt.plot(X_train[y_train == 0], y_train[y_train == 0], \"bs\")\n",
        "plt.plot(X_train[y_train == 1], y_train[y_train == 1], \"g^\")\n",
        "\n",
        "plt.xlabel(\"Petal width (cm)\")\n",
        "plt.ylabel(\"Probability\")\n",
        "plt.legend(loc=\"center left\")\n",
        "plt.grid()\n",
        "\n",
        "plt.show()"
      ],
      "metadata": {
        "colab": {
          "base_uri": "https://localhost:8080/",
          "height": 311
        },
        "id": "5P2xA13dCmj0",
        "outputId": "4af1cc30-a8ec-4aca-ef58-209b0c8a0609"
      },
      "execution_count": 84,
      "outputs": [
        {
          "output_type": "display_data",
          "data": {
            "text/plain": [
              "<Figure size 800x300 with 1 Axes>"
            ],
            "image/png": "[encoded data removed]"
          },
          "metadata": {}
        }
      ]
    },
    {
      "cell_type": "code",
      "source": [
        "log_reg.predict([[1.7], [1.5]])"
      ],
      "metadata": {
        "colab": {
          "base_uri": "https://localhost:8080/"
        },
        "id": "hCOYv0aQEjzS",
        "outputId": "43f132b4-8657-4679-b063-6481db676262"
      },
      "execution_count": 90,
      "outputs": [
        {
          "output_type": "execute_result",
          "data": {
            "text/plain": [
              "array([ True, False])"
            ]
          },
          "metadata": {},
          "execution_count": 90
        }
      ]
    },
    {
      "cell_type": "markdown",
      "source": [
        "*tym razem korzystamy z dwóch cech: szerokości\n",
        "i długości płatka.*"
      ],
      "metadata": {
        "id": "FudHvYE1Gfyv"
      }
    },
    {
      "cell_type": "code",
      "source": [
        "X = iris.data[[\"petal length (cm)\", \"petal width (cm)\"]].values\n",
        "y = iris.target_names[iris.target] == 'virginica'\n",
        "X_train, X_test, y_train, y_test = train_test_split(X, y, random_state=42)\n",
        "\n",
        "log_reg = LogisticRegression(C=2, random_state=42)\n",
        "# C=2 - Inverse of regularization strength; must be a positive float.\n",
        "# Like in support vector machines, smaller values specify stronger regularization.\n",
        "log_reg.fit(X_train, y_train)"
      ],
      "metadata": {
        "colab": {
          "base_uri": "https://localhost:8080/",
          "height": 80
        },
        "id": "6Beud6OrFaiJ",
        "outputId": "7278bda0-e58e-4e6e-d92c-f908d374aa18"
      },
      "execution_count": 91,
      "outputs": [
        {
          "output_type": "execute_result",
          "data": {
            "text/plain": [
              "LogisticRegression(C=2, random_state=42)"
            ],
            "text/html": [
              "<style>#sk-container-id-3 {\n",
              "  /* Definition of color scheme common for light and dark mode */\n",
              "  --sklearn-color-text: #000;\n",
              "  --sklearn-color-text-muted: #666;\n",
              "  --sklearn-color-line: gray;\n",
              "  /* Definition of color scheme for unfitted estimators */\n",
              "  --sklearn-color-unfitted-level-0: #fff5e6;\n",
              "  --sklearn-color-unfitted-level-1: #f6e4d2;\n",
              "  --sklearn-color-unfitted-level-2: #ffe0b3;\n",
              "  --sklearn-color-unfitted-level-3: chocolate;\n",
              "  /* Definition of color scheme for fitted estimators */\n",
              "  --sklearn-color-fitted-level-0: #f0f8ff;\n",
              "  --sklearn-color-fitted-level-1: #d4ebff;\n",
              "  --sklearn-color-fitted-level-2: #b3dbfd;\n",
              "  --sklearn-color-fitted-level-3: cornflowerblue;\n",
              "\n",
              "  /* Specific color for light theme */\n",
              "  --sklearn-color-text-on-default-background: var(--sg-text-color, var(--theme-code-foreground, var(--jp-content-font-color1, black)));\n",
              "  --sklearn-color-background: var(--sg-background-color, var(--theme-background, var(--jp-layout-color0, white)));\n",
              "  --sklearn-color-border-box: var(--sg-text-color, var(--theme-code-foreground, var(--jp-content-font-color1, black)));\n",
              "  --sklearn-color-icon: #696969;\n",
              "\n",
              "  @media (prefers-color-scheme: dark) {\n",
              "    /* Redefinition of color scheme for dark theme */\n",
              "    --sklearn-color-text-on-default-background: var(--sg-text-color, var(--theme-code-foreground, var(--jp-content-font-color1, white)));\n",
              "    --sklearn-color-background: var(--sg-background-color, var(--theme-background, var(--jp-layout-color0, #111)));\n",
              "    --sklearn-color-border-box: var(--sg-text-color, var(--theme-code-foreground, var(--jp-content-font-color1, white)));\n",
              "    --sklearn-color-icon: #878787;\n",
              "  }\n",
              "}\n",
              "\n",
              "#sk-container-id-3 {\n",
              "  color: var(--sklearn-color-text);\n",
              "}\n",
              "\n",
              "#sk-container-id-3 pre {\n",
              "  padding: 0;\n",
              "}\n",
              "\n",
              "#sk-container-id-3 input.sk-hidden--visually {\n",
              "  border: 0;\n",
              "  clip: rect(1px 1px 1px 1px);\n",
              "  clip: rect(1px, 1px, 1px, 1px);\n",
              "  height: 1px;\n",
              "  margin: -1px;\n",
              "  overflow: hidden;\n",
              "  padding: 0;\n",
              "  position: absolute;\n",
              "  width: 1px;\n",
              "}\n",
              "\n",
              "#sk-container-id-3 div.sk-dashed-wrapped {\n",
              "  border: 1px dashed var(--sklearn-color-line);\n",
              "  margin: 0 0.4em 0.5em 0.4em;\n",
              "  box-sizing: border-box;\n",
              "  padding-bottom: 0.4em;\n",
              "  background-color: var(--sklearn-color-background);\n",
              "}\n",
              "\n",
              "#sk-container-id-3 div.sk-container {\n",
              "  /* jupyter's `normalize.less` sets `[hidden] { display: none; }`\n",
              "     but bootstrap.min.css set `[hidden] { display: none !important; }`\n",
              "     so we also need the `!important` here to be able to override the\n",
              "     default hidden behavior on the sphinx rendered scikit-learn.org.\n",
              "     See: https://github.com/scikit-learn/scikit-learn/issues/21755 */\n",
              "  display: inline-block !important;\n",
              "  position: relative;\n",
              "}\n",
              "\n",
              "#sk-container-id-3 div.sk-text-repr-fallback {\n",
              "  display: none;\n",
              "}\n",
              "\n",
              "div.sk-parallel-item,\n",
              "div.sk-serial,\n",
              "div.sk-item {\n",
              "  /* draw centered vertical line to link estimators */\n",
              "  background-image: linear-gradient(var(--sklearn-color-text-on-default-background), var(--sklearn-color-text-on-default-background));\n",
              "  background-size: 2px 100%;\n",
              "  background-repeat: no-repeat;\n",
              "  background-position: center center;\n",
              "}\n",
              "\n",
              "/* Parallel-specific style estimator block */\n",
              "\n",
              "#sk-container-id-3 div.sk-parallel-item::after {\n",
              "  content: \"\";\n",
              "  width: 100%;\n",
              "  border-bottom: 2px solid var(--sklearn-color-text-on-default-background);\n",
              "  flex-grow: 1;\n",
              "}\n",
              "\n",
              "#sk-container-id-3 div.sk-parallel {\n",
              "  display: flex;\n",
              "  align-items: stretch;\n",
              "  justify-content: center;\n",
              "  background-color: var(--sklearn-color-background);\n",
              "  position: relative;\n",
              "}\n",
              "\n",
              "#sk-container-id-3 div.sk-parallel-item {\n",
              "  display: flex;\n",
              "  flex-direction: column;\n",
              "}\n",
              "\n",
              "#sk-container-id-3 div.sk-parallel-item:first-child::after {\n",
              "  align-self: flex-end;\n",
              "  width: 50%;\n",
              "}\n",
              "\n",
              "#sk-container-id-3 div.sk-parallel-item:last-child::after {\n",
              "  align-self: flex-start;\n",
              "  width: 50%;\n",
              "}\n",
              "\n",
              "#sk-container-id-3 div.sk-parallel-item:only-child::after {\n",
              "  width: 0;\n",
              "}\n",
              "\n",
              "/* Serial-specific style estimator block */\n",
              "\n",
              "#sk-container-id-3 div.sk-serial {\n",
              "  display: flex;\n",
              "  flex-direction: column;\n",
              "  align-items: center;\n",
              "  background-color: var(--sklearn-color-background);\n",
              "  padding-right: 1em;\n",
              "  padding-left: 1em;\n",
              "}\n",
              "\n",
              "\n",
              "/* Toggleable style: style used for estimator/Pipeline/ColumnTransformer box that is\n",
              "clickable and can be expanded/collapsed.\n",
              "- Pipeline and ColumnTransformer use this feature and define the default style\n",
              "- Estimators will overwrite some part of the style using the `sk-estimator` class\n",
              "*/\n",
              "\n",
              "/* Pipeline and ColumnTransformer style (default) */\n",
              "\n",
              "#sk-container-id-3 div.sk-toggleable {\n",
              "  /* Default theme specific background. It is overwritten whether we have a\n",
              "  specific estimator or a Pipeline/ColumnTransformer */\n",
              "  background-color: var(--sklearn-color-background);\n",
              "}\n",
              "\n",
              "/* Toggleable label */\n",
              "#sk-container-id-3 label.sk-toggleable__label {\n",
              "  cursor: pointer;\n",
              "  display: flex;\n",
              "  width: 100%;\n",
              "  margin-bottom: 0;\n",
              "  padding: 0.5em;\n",
              "  box-sizing: border-box;\n",
              "  text-align: center;\n",
              "  align-items: start;\n",
              "  justify-content: space-between;\n",
              "  gap: 0.5em;\n",
              "}\n",
              "\n",
              "#sk-container-id-3 label.sk-toggleable__label .caption {\n",
              "  font-size: 0.6rem;\n",
              "  font-weight: lighter;\n",
              "  color: var(--sklearn-color-text-muted);\n",
              "}\n",
              "\n",
              "#sk-container-id-3 label.sk-toggleable__label-arrow:before {\n",
              "  /* Arrow on the left of the label */\n",
              "  content: \"▸\";\n",
              "  float: left;\n",
              "  margin-right: 0.25em;\n",
              "  color: var(--sklearn-color-icon);\n",
              "}\n",
              "\n",
              "#sk-container-id-3 label.sk-toggleable__label-arrow:hover:before {\n",
              "  color: var(--sklearn-color-text);\n",
              "}\n",
              "\n",
              "/* Toggleable content - dropdown */\n",
              "\n",
              "#sk-container-id-3 div.sk-toggleable__content {\n",
              "  max-height: 0;\n",
              "  max-width: 0;\n",
              "  overflow: hidden;\n",
              "  text-align: left;\n",
              "  /* unfitted */\n",
              "  background-color: var(--sklearn-color-unfitted-level-0);\n",
              "}\n",
              "\n",
              "#sk-container-id-3 div.sk-toggleable__content.fitted {\n",
              "  /* fitted */\n",
              "  background-color: var(--sklearn-color-fitted-level-0);\n",
              "}\n",
              "\n",
              "#sk-container-id-3 div.sk-toggleable__content pre {\n",
              "  margin: 0.2em;\n",
              "  border-radius: 0.25em;\n",
              "  color: var(--sklearn-color-text);\n",
              "  /* unfitted */\n",
              "  background-color: var(--sklearn-color-unfitted-level-0);\n",
              "}\n",
              "\n",
              "#sk-container-id-3 div.sk-toggleable__content.fitted pre {\n",
              "  /* unfitted */\n",
              "  background-color: var(--sklearn-color-fitted-level-0);\n",
              "}\n",
              "\n",
              "#sk-container-id-3 input.sk-toggleable__control:checked~div.sk-toggleable__content {\n",
              "  /* Expand drop-down */\n",
              "  max-height: 200px;\n",
              "  max-width: 100%;\n",
              "  overflow: auto;\n",
              "}\n",
              "\n",
              "#sk-container-id-3 input.sk-toggleable__control:checked~label.sk-toggleable__label-arrow:before {\n",
              "  content: \"▾\";\n",
              "}\n",
              "\n",
              "/* Pipeline/ColumnTransformer-specific style */\n",
              "\n",
              "#sk-container-id-3 div.sk-label input.sk-toggleable__control:checked~label.sk-toggleable__label {\n",
              "  color: var(--sklearn-color-text);\n",
              "  background-color: var(--sklearn-color-unfitted-level-2);\n",
              "}\n",
              "\n",
              "#sk-container-id-3 div.sk-label.fitted input.sk-toggleable__control:checked~label.sk-toggleable__label {\n",
              "  background-color: var(--sklearn-color-fitted-level-2);\n",
              "}\n",
              "\n",
              "/* Estimator-specific style */\n",
              "\n",
              "/* Colorize estimator box */\n",
              "#sk-container-id-3 div.sk-estimator input.sk-toggleable__control:checked~label.sk-toggleable__label {\n",
              "  /* unfitted */\n",
              "  background-color: var(--sklearn-color-unfitted-level-2);\n",
              "}\n",
              "\n",
              "#sk-container-id-3 div.sk-estimator.fitted input.sk-toggleable__control:checked~label.sk-toggleable__label {\n",
              "  /* fitted */\n",
              "  background-color: var(--sklearn-color-fitted-level-2);\n",
              "}\n",
              "\n",
              "#sk-container-id-3 div.sk-label label.sk-toggleable__label,\n",
              "#sk-container-id-3 div.sk-label label {\n",
              "  /* The background is the default theme color */\n",
              "  color: var(--sklearn-color-text-on-default-background);\n",
              "}\n",
              "\n",
              "/* On hover, darken the color of the background */\n",
              "#sk-container-id-3 div.sk-label:hover label.sk-toggleable__label {\n",
              "  color: var(--sklearn-color-text);\n",
              "  background-color: var(--sklearn-color-unfitted-level-2);\n",
              "}\n",
              "\n",
              "/* Label box, darken color on hover, fitted */\n",
              "#sk-container-id-3 div.sk-label.fitted:hover label.sk-toggleable__label.fitted {\n",
              "  color: var(--sklearn-color-text);\n",
              "  background-color: var(--sklearn-color-fitted-level-2);\n",
              "}\n",
              "\n",
              "/* Estimator label */\n",
              "\n",
              "#sk-container-id-3 div.sk-label label {\n",
              "  font-family: monospace;\n",
              "  font-weight: bold;\n",
              "  display: inline-block;\n",
              "  line-height: 1.2em;\n",
              "}\n",
              "\n",
              "#sk-container-id-3 div.sk-label-container {\n",
              "  text-align: center;\n",
              "}\n",
              "\n",
              "/* Estimator-specific */\n",
              "#sk-container-id-3 div.sk-estimator {\n",
              "  font-family: monospace;\n",
              "  border: 1px dotted var(--sklearn-color-border-box);\n",
              "  border-radius: 0.25em;\n",
              "  box-sizing: border-box;\n",
              "  margin-bottom: 0.5em;\n",
              "  /* unfitted */\n",
              "  background-color: var(--sklearn-color-unfitted-level-0);\n",
              "}\n",
              "\n",
              "#sk-container-id-3 div.sk-estimator.fitted {\n",
              "  /* fitted */\n",
              "  background-color: var(--sklearn-color-fitted-level-0);\n",
              "}\n",
              "\n",
              "/* on hover */\n",
              "#sk-container-id-3 div.sk-estimator:hover {\n",
              "  /* unfitted */\n",
              "  background-color: var(--sklearn-color-unfitted-level-2);\n",
              "}\n",
              "\n",
              "#sk-container-id-3 div.sk-estimator.fitted:hover {\n",
              "  /* fitted */\n",
              "  background-color: var(--sklearn-color-fitted-level-2);\n",
              "}\n",
              "\n",
              "/* Specification for estimator info (e.g. \"i\" and \"?\") */\n",
              "\n",
              "/* Common style for \"i\" and \"?\" */\n",
              "\n",
              ".sk-estimator-doc-link,\n",
              "a:link.sk-estimator-doc-link,\n",
              "a:visited.sk-estimator-doc-link {\n",
              "  float: right;\n",
              "  font-size: smaller;\n",
              "  line-height: 1em;\n",
              "  font-family: monospace;\n",
              "  background-color: var(--sklearn-color-background);\n",
              "  border-radius: 1em;\n",
              "  height: 1em;\n",
              "  width: 1em;\n",
              "  text-decoration: none !important;\n",
              "  margin-left: 0.5em;\n",
              "  text-align: center;\n",
              "  /* unfitted */\n",
              "  border: var(--sklearn-color-unfitted-level-1) 1pt solid;\n",
              "  color: var(--sklearn-color-unfitted-level-1);\n",
              "}\n",
              "\n",
              ".sk-estimator-doc-link.fitted,\n",
              "a:link.sk-estimator-doc-link.fitted,\n",
              "a:visited.sk-estimator-doc-link.fitted {\n",
              "  /* fitted */\n",
              "  border: var(--sklearn-color-fitted-level-1) 1pt solid;\n",
              "  color: var(--sklearn-color-fitted-level-1);\n",
              "}\n",
              "\n",
              "/* On hover */\n",
              "div.sk-estimator:hover .sk-estimator-doc-link:hover,\n",
              ".sk-estimator-doc-link:hover,\n",
              "div.sk-label-container:hover .sk-estimator-doc-link:hover,\n",
              ".sk-estimator-doc-link:hover {\n",
              "  /* unfitted */\n",
              "  background-color: var(--sklearn-color-unfitted-level-3);\n",
              "  color: var(--sklearn-color-background);\n",
              "  text-decoration: none;\n",
              "}\n",
              "\n",
              "div.sk-estimator.fitted:hover .sk-estimator-doc-link.fitted:hover,\n",
              ".sk-estimator-doc-link.fitted:hover,\n",
              "div.sk-label-container:hover .sk-estimator-doc-link.fitted:hover,\n",
              ".sk-estimator-doc-link.fitted:hover {\n",
              "  /* fitted */\n",
              "  background-color: var(--sklearn-color-fitted-level-3);\n",
              "  color: var(--sklearn-color-background);\n",
              "  text-decoration: none;\n",
              "}\n",
              "\n",
              "/* Span, style for the box shown on hovering the info icon */\n",
              ".sk-estimator-doc-link span {\n",
              "  display: none;\n",
              "  z-index: 9999;\n",
              "  position: relative;\n",
              "  font-weight: normal;\n",
              "  right: .2ex;\n",
              "  padding: .5ex;\n",
              "  margin: .5ex;\n",
              "  width: min-content;\n",
              "  min-width: 20ex;\n",
              "  max-width: 50ex;\n",
              "  color: var(--sklearn-color-text);\n",
              "  box-shadow: 2pt 2pt 4pt #999;\n",
              "  /* unfitted */\n",
              "  background: var(--sklearn-color-unfitted-level-0);\n",
              "  border: .5pt solid var(--sklearn-color-unfitted-level-3);\n",
              "}\n",
              "\n",
              ".sk-estimator-doc-link.fitted span {\n",
              "  /* fitted */\n",
              "  background: var(--sklearn-color-fitted-level-0);\n",
              "  border: var(--sklearn-color-fitted-level-3);\n",
              "}\n",
              "\n",
              ".sk-estimator-doc-link:hover span {\n",
              "  display: block;\n",
              "}\n",
              "\n",
              "/* \"?\"-specific style due to the `<a>` HTML tag */\n",
              "\n",
              "#sk-container-id-3 a.estimator_doc_link {\n",
              "  float: right;\n",
              "  font-size: 1rem;\n",
              "  line-height: 1em;\n",
              "  font-family: monospace;\n",
              "  background-color: var(--sklearn-color-background);\n",
              "  border-radius: 1rem;\n",
              "  height: 1rem;\n",
              "  width: 1rem;\n",
              "  text-decoration: none;\n",
              "  /* unfitted */\n",
              "  color: var(--sklearn-color-unfitted-level-1);\n",
              "  border: var(--sklearn-color-unfitted-level-1) 1pt solid;\n",
              "}\n",
              "\n",
              "#sk-container-id-3 a.estimator_doc_link.fitted {\n",
              "  /* fitted */\n",
              "  border: var(--sklearn-color-fitted-level-1) 1pt solid;\n",
              "  color: var(--sklearn-color-fitted-level-1);\n",
              "}\n",
              "\n",
              "/* On hover */\n",
              "#sk-container-id-3 a.estimator_doc_link:hover {\n",
              "  /* unfitted */\n",
              "  background-color: var(--sklearn-color-unfitted-level-3);\n",
              "  color: var(--sklearn-color-background);\n",
              "  text-decoration: none;\n",
              "}\n",
              "\n",
              "#sk-container-id-3 a.estimator_doc_link.fitted:hover {\n",
              "  /* fitted */\n",
              "  background-color: var(--sklearn-color-fitted-level-3);\n",
              "}\n",
              "</style><div id=\"sk-container-id-3\" class=\"sk-top-container\"><div class=\"sk-text-repr-fallback\"><pre>LogisticRegression(C=2, random_state=42)</pre><b>In a Jupyter environment, please rerun this cell to show the HTML representation or trust the notebook. <br />On GitHub, the HTML representation is unable to render, please try loading this page with nbviewer.org.</b></div><div class=\"sk-container\" hidden><div class=\"sk-item\"><div class=\"sk-estimator fitted sk-toggleable\"><input class=\"sk-toggleable__control sk-hidden--visually\" id=\"sk-estimator-id-3\" type=\"checkbox\" checked><label for=\"sk-estimator-id-3\" class=\"sk-toggleable__label fitted sk-toggleable__label-arrow\"><div><div>LogisticRegression</div></div><div><a class=\"sk-estimator-doc-link fitted\" rel=\"noreferrer\" target=\"_blank\" href=\"https://scikit-learn.org/1.6/modules/generated/sklearn.linear_model.LogisticRegression.html\">?<span>Documentation for LogisticRegression</span></a><span class=\"sk-estimator-doc-link fitted\">i<span>Fitted</span></span></div></label><div class=\"sk-toggleable__content fitted\"><pre>LogisticRegression(C=2, random_state=42)</pre></div> </div></div></div></div>"
            ]
          },
          "metadata": {},
          "execution_count": 91
        }
      ]
    },
    {
      "cell_type": "code",
      "source": [
        "X_train[:3], y_train[:3]"
      ],
      "metadata": {
        "colab": {
          "base_uri": "https://localhost:8080/"
        },
        "id": "SZesGvL4IKTU",
        "outputId": "3cfe6993-a03a-4bf8-94c4-08df1f5f3538"
      },
      "execution_count": 95,
      "outputs": [
        {
          "output_type": "execute_result",
          "data": {
            "text/plain": [
              "(array([[1.4, 0.2],\n",
              "        [1.5, 0.1],\n",
              "        [5.1, 1.9]]),\n",
              " array([False, False,  True]))"
            ]
          },
          "metadata": {},
          "execution_count": 95
        }
      ]
    },
    {
      "cell_type": "code",
      "source": [
        "x0, x1 = np.meshgrid(np.linspace(2.9, 7, 500).reshape(-1, 1),\n",
        "                     np.linspace(0.8, 2.7, 200).reshape(-1, 1))\n",
        "\n",
        "plt.figure(figsize=(10, 4))\n",
        "\n",
        "plt.plot(X_train[y_train == 0, 0], X_train[y_train == 0, 1], \"bs\")\n",
        "plt.plot(X_train[y_train == 1, 0], X_train[y_train == 1, 1], \"g^\")\n",
        "\n",
        "plt.text(3.5, 1.27, \"Not Iris virginica\", color=\"b\", ha=\"center\")\n",
        "plt.text(6.5, 2.3, \"Iris virginica\", color=\"g\", ha=\"center\")\n",
        "plt.xlabel(\"Petal length\")\n",
        "plt.ylabel(\"Petal width\")\n",
        "plt.axis([2.9, 7, 0.8, 2.7])\n",
        "plt.grid()\n",
        "\n",
        "plt.show()"
      ],
      "metadata": {
        "colab": {
          "base_uri": "https://localhost:8080/",
          "height": 388
        },
        "id": "E60w_gEXHGUF",
        "outputId": "c99f2a0d-d82a-45bb-84f0-533a7b856922"
      },
      "execution_count": 96,
      "outputs": [
        {
          "output_type": "display_data",
          "data": {
            "text/plain": [
              "<Figure size 1000x400 with 1 Axes>"
            ],
            "image/png": "[encoded data removed]"
          },
          "metadata": {}
        }
      ]
    },
    {
      "cell_type": "markdown",
      "source": [
        "## Softmax Regression"
      ],
      "metadata": {
        "id": "uYhr1SO_HJpv"
      }
    },
    {
      "cell_type": "markdown",
      "source": [
        "*Możemy uogólnić model regresji logistycznej do bezpośredniej obsługi wielu klas, bez konieczności\n",
        "uczenia i łączenia wielu klasyfikatorów binarnych.\n",
        "Tego typu model nosi nazwę **regresji softmax** lub **wielomianowej/wielorakiej regresji logistycznej (ang. multinomial logistic regression)**.*"
      ],
      "metadata": {
        "id": "VuEmuyxkKQjM"
      }
    },
    {
      "cell_type": "markdown",
      "source": [
        "*Użyjmy regresji softmax do rozdzielenia roślin kosaćca na trzy klasy. Klasyfikator `LogisticRegression` korzysta automatycznie z regresji softmax podczas trenowania modelu przy użyciu przynajmniej trzech klas (przy założeniu, że używasz domyślnego parametru `solver=\"lbfgs\"`). Domyślnie jest również\n",
        "wykorzystywana regularyzacja ℓ2, którą regulujemy, przy użyciu hiperparametru C.*"
      ],
      "metadata": {
        "id": "BZsurnQeKM2s"
      }
    },
    {
      "cell_type": "code",
      "source": [
        "X = iris.data[[\"petal length (cm)\", \"petal width (cm)\"]].values\n",
        "y = iris[\"target\"]\n",
        "X_train, X_test, y_train, y_test = train_test_split(X, y, random_state=42)\n",
        "\n",
        "softmax_reg = LogisticRegression(C=30, random_state=42)\n",
        "softmax_reg.fit(X_train, y_train)"
      ],
      "metadata": {
        "colab": {
          "base_uri": "https://localhost:8080/",
          "height": 80
        },
        "id": "gUfIrkSSNxrc",
        "outputId": "4bb78bd7-0cf1-40e4-93a6-9e04e3bf284f"
      },
      "execution_count": 98,
      "outputs": [
        {
          "output_type": "execute_result",
          "data": {
            "text/plain": [
              "LogisticRegression(C=30, random_state=42)"
            ],
            "text/html": [
              "<style>#sk-container-id-4 {\n",
              "  /* Definition of color scheme common for light and dark mode */\n",
              "  --sklearn-color-text: #000;\n",
              "  --sklearn-color-text-muted: #666;\n",
              "  --sklearn-color-line: gray;\n",
              "  /* Definition of color scheme for unfitted estimators */\n",
              "  --sklearn-color-unfitted-level-0: #fff5e6;\n",
              "  --sklearn-color-unfitted-level-1: #f6e4d2;\n",
              "  --sklearn-color-unfitted-level-2: #ffe0b3;\n",
              "  --sklearn-color-unfitted-level-3: chocolate;\n",
              "  /* Definition of color scheme for fitted estimators */\n",
              "  --sklearn-color-fitted-level-0: #f0f8ff;\n",
              "  --sklearn-color-fitted-level-1: #d4ebff;\n",
              "  --sklearn-color-fitted-level-2: #b3dbfd;\n",
              "  --sklearn-color-fitted-level-3: cornflowerblue;\n",
              "\n",
              "  /* Specific color for light theme */\n",
              "  --sklearn-color-text-on-default-background: var(--sg-text-color, var(--theme-code-foreground, var(--jp-content-font-color1, black)));\n",
              "  --sklearn-color-background: var(--sg-background-color, var(--theme-background, var(--jp-layout-color0, white)));\n",
              "  --sklearn-color-border-box: var(--sg-text-color, var(--theme-code-foreground, var(--jp-content-font-color1, black)));\n",
              "  --sklearn-color-icon: #696969;\n",
              "\n",
              "  @media (prefers-color-scheme: dark) {\n",
              "    /* Redefinition of color scheme for dark theme */\n",
              "    --sklearn-color-text-on-default-background: var(--sg-text-color, var(--theme-code-foreground, var(--jp-content-font-color1, white)));\n",
              "    --sklearn-color-background: var(--sg-background-color, var(--theme-background, var(--jp-layout-color0, #111)));\n",
              "    --sklearn-color-border-box: var(--sg-text-color, var(--theme-code-foreground, var(--jp-content-font-color1, white)));\n",
              "    --sklearn-color-icon: #878787;\n",
              "  }\n",
              "}\n",
              "\n",
              "#sk-container-id-4 {\n",
              "  color: var(--sklearn-color-text);\n",
              "}\n",
              "\n",
              "#sk-container-id-4 pre {\n",
              "  padding: 0;\n",
              "}\n",
              "\n",
              "#sk-container-id-4 input.sk-hidden--visually {\n",
              "  border: 0;\n",
              "  clip: rect(1px 1px 1px 1px);\n",
              "  clip: rect(1px, 1px, 1px, 1px);\n",
              "  height: 1px;\n",
              "  margin: -1px;\n",
              "  overflow: hidden;\n",
              "  padding: 0;\n",
              "  position: absolute;\n",
              "  width: 1px;\n",
              "}\n",
              "\n",
              "#sk-container-id-4 div.sk-dashed-wrapped {\n",
              "  border: 1px dashed var(--sklearn-color-line);\n",
              "  margin: 0 0.4em 0.5em 0.4em;\n",
              "  box-sizing: border-box;\n",
              "  padding-bottom: 0.4em;\n",
              "  background-color: var(--sklearn-color-background);\n",
              "}\n",
              "\n",
              "#sk-container-id-4 div.sk-container {\n",
              "  /* jupyter's `normalize.less` sets `[hidden] { display: none; }`\n",
              "     but bootstrap.min.css set `[hidden] { display: none !important; }`\n",
              "     so we also need the `!important` here to be able to override the\n",
              "     default hidden behavior on the sphinx rendered scikit-learn.org.\n",
              "     See: https://github.com/scikit-learn/scikit-learn/issues/21755 */\n",
              "  display: inline-block !important;\n",
              "  position: relative;\n",
              "}\n",
              "\n",
              "#sk-container-id-4 div.sk-text-repr-fallback {\n",
              "  display: none;\n",
              "}\n",
              "\n",
              "div.sk-parallel-item,\n",
              "div.sk-serial,\n",
              "div.sk-item {\n",
              "  /* draw centered vertical line to link estimators */\n",
              "  background-image: linear-gradient(var(--sklearn-color-text-on-default-background), var(--sklearn-color-text-on-default-background));\n",
              "  background-size: 2px 100%;\n",
              "  background-repeat: no-repeat;\n",
              "  background-position: center center;\n",
              "}\n",
              "\n",
              "/* Parallel-specific style estimator block */\n",
              "\n",
              "#sk-container-id-4 div.sk-parallel-item::after {\n",
              "  content: \"\";\n",
              "  width: 100%;\n",
              "  border-bottom: 2px solid var(--sklearn-color-text-on-default-background);\n",
              "  flex-grow: 1;\n",
              "}\n",
              "\n",
              "#sk-container-id-4 div.sk-parallel {\n",
              "  display: flex;\n",
              "  align-items: stretch;\n",
              "  justify-content: center;\n",
              "  background-color: var(--sklearn-color-background);\n",
              "  position: relative;\n",
              "}\n",
              "\n",
              "#sk-container-id-4 div.sk-parallel-item {\n",
              "  display: flex;\n",
              "  flex-direction: column;\n",
              "}\n",
              "\n",
              "#sk-container-id-4 div.sk-parallel-item:first-child::after {\n",
              "  align-self: flex-end;\n",
              "  width: 50%;\n",
              "}\n",
              "\n",
              "#sk-container-id-4 div.sk-parallel-item:last-child::after {\n",
              "  align-self: flex-start;\n",
              "  width: 50%;\n",
              "}\n",
              "\n",
              "#sk-container-id-4 div.sk-parallel-item:only-child::after {\n",
              "  width: 0;\n",
              "}\n",
              "\n",
              "/* Serial-specific style estimator block */\n",
              "\n",
              "#sk-container-id-4 div.sk-serial {\n",
              "  display: flex;\n",
              "  flex-direction: column;\n",
              "  align-items: center;\n",
              "  background-color: var(--sklearn-color-background);\n",
              "  padding-right: 1em;\n",
              "  padding-left: 1em;\n",
              "}\n",
              "\n",
              "\n",
              "/* Toggleable style: style used for estimator/Pipeline/ColumnTransformer box that is\n",
              "clickable and can be expanded/collapsed.\n",
              "- Pipeline and ColumnTransformer use this feature and define the default style\n",
              "- Estimators will overwrite some part of the style using the `sk-estimator` class\n",
              "*/\n",
              "\n",
              "/* Pipeline and ColumnTransformer style (default) */\n",
              "\n",
              "#sk-container-id-4 div.sk-toggleable {\n",
              "  /* Default theme specific background. It is overwritten whether we have a\n",
              "  specific estimator or a Pipeline/ColumnTransformer */\n",
              "  background-color: var(--sklearn-color-background);\n",
              "}\n",
              "\n",
              "/* Toggleable label */\n",
              "#sk-container-id-4 label.sk-toggleable__label {\n",
              "  cursor: pointer;\n",
              "  display: flex;\n",
              "  width: 100%;\n",
              "  margin-bottom: 0;\n",
              "  padding: 0.5em;\n",
              "  box-sizing: border-box;\n",
              "  text-align: center;\n",
              "  align-items: start;\n",
              "  justify-content: space-between;\n",
              "  gap: 0.5em;\n",
              "}\n",
              "\n",
              "#sk-container-id-4 label.sk-toggleable__label .caption {\n",
              "  font-size: 0.6rem;\n",
              "  font-weight: lighter;\n",
              "  color: var(--sklearn-color-text-muted);\n",
              "}\n",
              "\n",
              "#sk-container-id-4 label.sk-toggleable__label-arrow:before {\n",
              "  /* Arrow on the left of the label */\n",
              "  content: \"▸\";\n",
              "  float: left;\n",
              "  margin-right: 0.25em;\n",
              "  color: var(--sklearn-color-icon);\n",
              "}\n",
              "\n",
              "#sk-container-id-4 label.sk-toggleable__label-arrow:hover:before {\n",
              "  color: var(--sklearn-color-text);\n",
              "}\n",
              "\n",
              "/* Toggleable content - dropdown */\n",
              "\n",
              "#sk-container-id-4 div.sk-toggleable__content {\n",
              "  max-height: 0;\n",
              "  max-width: 0;\n",
              "  overflow: hidden;\n",
              "  text-align: left;\n",
              "  /* unfitted */\n",
              "  background-color: var(--sklearn-color-unfitted-level-0);\n",
              "}\n",
              "\n",
              "#sk-container-id-4 div.sk-toggleable__content.fitted {\n",
              "  /* fitted */\n",
              "  background-color: var(--sklearn-color-fitted-level-0);\n",
              "}\n",
              "\n",
              "#sk-container-id-4 div.sk-toggleable__content pre {\n",
              "  margin: 0.2em;\n",
              "  border-radius: 0.25em;\n",
              "  color: var(--sklearn-color-text);\n",
              "  /* unfitted */\n",
              "  background-color: var(--sklearn-color-unfitted-level-0);\n",
              "}\n",
              "\n",
              "#sk-container-id-4 div.sk-toggleable__content.fitted pre {\n",
              "  /* unfitted */\n",
              "  background-color: var(--sklearn-color-fitted-level-0);\n",
              "}\n",
              "\n",
              "#sk-container-id-4 input.sk-toggleable__control:checked~div.sk-toggleable__content {\n",
              "  /* Expand drop-down */\n",
              "  max-height: 200px;\n",
              "  max-width: 100%;\n",
              "  overflow: auto;\n",
              "}\n",
              "\n",
              "#sk-container-id-4 input.sk-toggleable__control:checked~label.sk-toggleable__label-arrow:before {\n",
              "  content: \"▾\";\n",
              "}\n",
              "\n",
              "/* Pipeline/ColumnTransformer-specific style */\n",
              "\n",
              "#sk-container-id-4 div.sk-label input.sk-toggleable__control:checked~label.sk-toggleable__label {\n",
              "  color: var(--sklearn-color-text);\n",
              "  background-color: var(--sklearn-color-unfitted-level-2);\n",
              "}\n",
              "\n",
              "#sk-container-id-4 div.sk-label.fitted input.sk-toggleable__control:checked~label.sk-toggleable__label {\n",
              "  background-color: var(--sklearn-color-fitted-level-2);\n",
              "}\n",
              "\n",
              "/* Estimator-specific style */\n",
              "\n",
              "/* Colorize estimator box */\n",
              "#sk-container-id-4 div.sk-estimator input.sk-toggleable__control:checked~label.sk-toggleable__label {\n",
              "  /* unfitted */\n",
              "  background-color: var(--sklearn-color-unfitted-level-2);\n",
              "}\n",
              "\n",
              "#sk-container-id-4 div.sk-estimator.fitted input.sk-toggleable__control:checked~label.sk-toggleable__label {\n",
              "  /* fitted */\n",
              "  background-color: var(--sklearn-color-fitted-level-2);\n",
              "}\n",
              "\n",
              "#sk-container-id-4 div.sk-label label.sk-toggleable__label,\n",
              "#sk-container-id-4 div.sk-label label {\n",
              "  /* The background is the default theme color */\n",
              "  color: var(--sklearn-color-text-on-default-background);\n",
              "}\n",
              "\n",
              "/* On hover, darken the color of the background */\n",
              "#sk-container-id-4 div.sk-label:hover label.sk-toggleable__label {\n",
              "  color: var(--sklearn-color-text);\n",
              "  background-color: var(--sklearn-color-unfitted-level-2);\n",
              "}\n",
              "\n",
              "/* Label box, darken color on hover, fitted */\n",
              "#sk-container-id-4 div.sk-label.fitted:hover label.sk-toggleable__label.fitted {\n",
              "  color: var(--sklearn-color-text);\n",
              "  background-color: var(--sklearn-color-fitted-level-2);\n",
              "}\n",
              "\n",
              "/* Estimator label */\n",
              "\n",
              "#sk-container-id-4 div.sk-label label {\n",
              "  font-family: monospace;\n",
              "  font-weight: bold;\n",
              "  display: inline-block;\n",
              "  line-height: 1.2em;\n",
              "}\n",
              "\n",
              "#sk-container-id-4 div.sk-label-container {\n",
              "  text-align: center;\n",
              "}\n",
              "\n",
              "/* Estimator-specific */\n",
              "#sk-container-id-4 div.sk-estimator {\n",
              "  font-family: monospace;\n",
              "  border: 1px dotted var(--sklearn-color-border-box);\n",
              "  border-radius: 0.25em;\n",
              "  box-sizing: border-box;\n",
              "  margin-bottom: 0.5em;\n",
              "  /* unfitted */\n",
              "  background-color: var(--sklearn-color-unfitted-level-0);\n",
              "}\n",
              "\n",
              "#sk-container-id-4 div.sk-estimator.fitted {\n",
              "  /* fitted */\n",
              "  background-color: var(--sklearn-color-fitted-level-0);\n",
              "}\n",
              "\n",
              "/* on hover */\n",
              "#sk-container-id-4 div.sk-estimator:hover {\n",
              "  /* unfitted */\n",
              "  background-color: var(--sklearn-color-unfitted-level-2);\n",
              "}\n",
              "\n",
              "#sk-container-id-4 div.sk-estimator.fitted:hover {\n",
              "  /* fitted */\n",
              "  background-color: var(--sklearn-color-fitted-level-2);\n",
              "}\n",
              "\n",
              "/* Specification for estimator info (e.g. \"i\" and \"?\") */\n",
              "\n",
              "/* Common style for \"i\" and \"?\" */\n",
              "\n",
              ".sk-estimator-doc-link,\n",
              "a:link.sk-estimator-doc-link,\n",
              "a:visited.sk-estimator-doc-link {\n",
              "  float: right;\n",
              "  font-size: smaller;\n",
              "  line-height: 1em;\n",
              "  font-family: monospace;\n",
              "  background-color: var(--sklearn-color-background);\n",
              "  border-radius: 1em;\n",
              "  height: 1em;\n",
              "  width: 1em;\n",
              "  text-decoration: none !important;\n",
              "  margin-left: 0.5em;\n",
              "  text-align: center;\n",
              "  /* unfitted */\n",
              "  border: var(--sklearn-color-unfitted-level-1) 1pt solid;\n",
              "  color: var(--sklearn-color-unfitted-level-1);\n",
              "}\n",
              "\n",
              ".sk-estimator-doc-link.fitted,\n",
              "a:link.sk-estimator-doc-link.fitted,\n",
              "a:visited.sk-estimator-doc-link.fitted {\n",
              "  /* fitted */\n",
              "  border: var(--sklearn-color-fitted-level-1) 1pt solid;\n",
              "  color: var(--sklearn-color-fitted-level-1);\n",
              "}\n",
              "\n",
              "/* On hover */\n",
              "div.sk-estimator:hover .sk-estimator-doc-link:hover,\n",
              ".sk-estimator-doc-link:hover,\n",
              "div.sk-label-container:hover .sk-estimator-doc-link:hover,\n",
              ".sk-estimator-doc-link:hover {\n",
              "  /* unfitted */\n",
              "  background-color: var(--sklearn-color-unfitted-level-3);\n",
              "  color: var(--sklearn-color-background);\n",
              "  text-decoration: none;\n",
              "}\n",
              "\n",
              "div.sk-estimator.fitted:hover .sk-estimator-doc-link.fitted:hover,\n",
              ".sk-estimator-doc-link.fitted:hover,\n",
              "div.sk-label-container:hover .sk-estimator-doc-link.fitted:hover,\n",
              ".sk-estimator-doc-link.fitted:hover {\n",
              "  /* fitted */\n",
              "  background-color: var(--sklearn-color-fitted-level-3);\n",
              "  color: var(--sklearn-color-background);\n",
              "  text-decoration: none;\n",
              "}\n",
              "\n",
              "/* Span, style for the box shown on hovering the info icon */\n",
              ".sk-estimator-doc-link span {\n",
              "  display: none;\n",
              "  z-index: 9999;\n",
              "  position: relative;\n",
              "  font-weight: normal;\n",
              "  right: .2ex;\n",
              "  padding: .5ex;\n",
              "  margin: .5ex;\n",
              "  width: min-content;\n",
              "  min-width: 20ex;\n",
              "  max-width: 50ex;\n",
              "  color: var(--sklearn-color-text);\n",
              "  box-shadow: 2pt 2pt 4pt #999;\n",
              "  /* unfitted */\n",
              "  background: var(--sklearn-color-unfitted-level-0);\n",
              "  border: .5pt solid var(--sklearn-color-unfitted-level-3);\n",
              "}\n",
              "\n",
              ".sk-estimator-doc-link.fitted span {\n",
              "  /* fitted */\n",
              "  background: var(--sklearn-color-fitted-level-0);\n",
              "  border: var(--sklearn-color-fitted-level-3);\n",
              "}\n",
              "\n",
              ".sk-estimator-doc-link:hover span {\n",
              "  display: block;\n",
              "}\n",
              "\n",
              "/* \"?\"-specific style due to the `<a>` HTML tag */\n",
              "\n",
              "#sk-container-id-4 a.estimator_doc_link {\n",
              "  float: right;\n",
              "  font-size: 1rem;\n",
              "  line-height: 1em;\n",
              "  font-family: monospace;\n",
              "  background-color: var(--sklearn-color-background);\n",
              "  border-radius: 1rem;\n",
              "  height: 1rem;\n",
              "  width: 1rem;\n",
              "  text-decoration: none;\n",
              "  /* unfitted */\n",
              "  color: var(--sklearn-color-unfitted-level-1);\n",
              "  border: var(--sklearn-color-unfitted-level-1) 1pt solid;\n",
              "}\n",
              "\n",
              "#sk-container-id-4 a.estimator_doc_link.fitted {\n",
              "  /* fitted */\n",
              "  border: var(--sklearn-color-fitted-level-1) 1pt solid;\n",
              "  color: var(--sklearn-color-fitted-level-1);\n",
              "}\n",
              "\n",
              "/* On hover */\n",
              "#sk-container-id-4 a.estimator_doc_link:hover {\n",
              "  /* unfitted */\n",
              "  background-color: var(--sklearn-color-unfitted-level-3);\n",
              "  color: var(--sklearn-color-background);\n",
              "  text-decoration: none;\n",
              "}\n",
              "\n",
              "#sk-container-id-4 a.estimator_doc_link.fitted:hover {\n",
              "  /* fitted */\n",
              "  background-color: var(--sklearn-color-fitted-level-3);\n",
              "}\n",
              "</style><div id=\"sk-container-id-4\" class=\"sk-top-container\"><div class=\"sk-text-repr-fallback\"><pre>LogisticRegression(C=30, random_state=42)</pre><b>In a Jupyter environment, please rerun this cell to show the HTML representation or trust the notebook. <br />On GitHub, the HTML representation is unable to render, please try loading this page with nbviewer.org.</b></div><div class=\"sk-container\" hidden><div class=\"sk-item\"><div class=\"sk-estimator fitted sk-toggleable\"><input class=\"sk-toggleable__control sk-hidden--visually\" id=\"sk-estimator-id-4\" type=\"checkbox\" checked><label for=\"sk-estimator-id-4\" class=\"sk-toggleable__label fitted sk-toggleable__label-arrow\"><div><div>LogisticRegression</div></div><div><a class=\"sk-estimator-doc-link fitted\" rel=\"noreferrer\" target=\"_blank\" href=\"https://scikit-learn.org/1.6/modules/generated/sklearn.linear_model.LogisticRegression.html\">?<span>Documentation for LogisticRegression</span></a><span class=\"sk-estimator-doc-link fitted\">i<span>Fitted</span></span></div></label><div class=\"sk-toggleable__content fitted\"><pre>LogisticRegression(C=30, random_state=42)</pre></div> </div></div></div></div>"
            ]
          },
          "metadata": {},
          "execution_count": 98
        }
      ]
    },
    {
      "cell_type": "code",
      "source": [
        "softmax_reg.predict([[5, 2]])"
      ],
      "metadata": {
        "colab": {
          "base_uri": "https://localhost:8080/"
        },
        "id": "FLfGx9NeQjw3",
        "outputId": "6c95f1cb-d770-484b-919a-211d4a05913b"
      },
      "execution_count": 99,
      "outputs": [
        {
          "output_type": "execute_result",
          "data": {
            "text/plain": [
              "array([2])"
            ]
          },
          "metadata": {},
          "execution_count": 99
        }
      ]
    },
    {
      "cell_type": "code",
      "source": [
        "softmax_reg.predict_proba([[5, 2]]).round(2)"
      ],
      "metadata": {
        "colab": {
          "base_uri": "https://localhost:8080/"
        },
        "id": "GNrCy0yxQm_x",
        "outputId": "adb5bcf3-6fea-4bd3-d211-f757eceb7947"
      },
      "execution_count": 100,
      "outputs": [
        {
          "output_type": "execute_result",
          "data": {
            "text/plain": [
              "array([[0.  , 0.04, 0.96]])"
            ]
          },
          "metadata": {},
          "execution_count": 100
        }
      ]
    },
    {
      "cell_type": "code",
      "source": [
        "plt.figure(figsize=(10, 4))\n",
        "plt.plot(X[y == 2, 0], X[y == 2, 1], \"g^\", label=\"Iris virginica\")\n",
        "plt.plot(X[y == 1, 0], X[y == 1, 1], \"bs\", label=\"Iris versicolor\")\n",
        "plt.plot(X[y == 0, 0], X[y == 0, 1], \"yo\", label=\"Iris setosa\")\n",
        "\n",
        "plt.xlabel(\"Petal length\")\n",
        "plt.ylabel(\"Petal width\")\n",
        "plt.legend(loc=\"center left\")\n",
        "plt.axis([0.5, 7, 0, 3.5])\n",
        "plt.grid()\n",
        "plt.show()"
      ],
      "metadata": {
        "colab": {
          "base_uri": "https://localhost:8080/",
          "height": 393
        },
        "id": "sZGX-louQrCS",
        "outputId": "57a83d72-6973-4bae-fb0e-d4af4ff0a302"
      },
      "execution_count": 101,
      "outputs": [
        {
          "output_type": "display_data",
          "data": {
            "text/plain": [
              "<Figure size 1000x400 with 1 Axes>"
            ],
            "image/png": "[encoded data removed]"
          },
          "metadata": {}
        }
      ]
    },
    {
      "cell_type": "code",
      "source": [],
      "metadata": {
        "id": "4w3eRuqwRIf7"
      },
      "execution_count": null,
      "outputs": []
    }
  ]
}